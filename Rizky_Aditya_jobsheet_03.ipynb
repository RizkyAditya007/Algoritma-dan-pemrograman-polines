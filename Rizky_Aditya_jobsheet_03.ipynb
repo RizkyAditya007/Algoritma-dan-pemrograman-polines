{
  "nbformat": 4,
  "nbformat_minor": 0,
  "metadata": {
    "colab": {
      "provenance": [],
      "authorship_tag": "ABX9TyPv6PES2UnCAcZU9bEmsNiL",
      "include_colab_link": true
    },
    "kernelspec": {
      "name": "python3",
      "display_name": "Python 3"
    },
    "language_info": {
      "name": "python"
    }
  },
  "cells": [
    {
      "cell_type": "markdown",
      "metadata": {
        "id": "view-in-github",
        "colab_type": "text"
      },
      "source": [
        "<a href=\"https://colab.research.google.com/github/RizkyAditya007/Algoritma-dan-pemrograman-polines/blob/main/Rizky_Aditya_jobsheet_03.ipynb\" target=\"_parent\"><img src=\"https://colab.research.google.com/assets/colab-badge.svg\" alt=\"Open In Colab\"/></a>"
      ]
    },
    {
      "cell_type": "markdown",
      "source": [
        "#Praktikum 01 – If Sederhana"
      ],
      "metadata": {
        "id": "EfBosZ3oXYZY"
      }
    },
    {
      "cell_type": "code",
      "source": [
        "nilai = int(input(\"Masukkan nilai ujian: \"))\n",
        "if nilai >= 60:\n",
        "  print(\"Anda LULUS\")"
      ],
      "metadata": {
        "colab": {
          "base_uri": "https://localhost:8080/"
        },
        "id": "2SYNeRoBXZLd",
        "outputId": "77bf67b7-c1f3-414b-b9fe-3deb238822fe"
      },
      "execution_count": null,
      "outputs": [
        {
          "output_type": "stream",
          "name": "stdout",
          "text": [
            "Masukkan nilai ujian: 70\n",
            "Anda LULUS\n"
          ]
        }
      ]
    },
    {
      "cell_type": "markdown",
      "source": [
        "#Praktikum 02 – If-Else"
      ],
      "metadata": {
        "id": "GjU0Gr9qXw0d"
      }
    },
    {
      "cell_type": "code",
      "source": [
        "nilai = int(input(\"Masukkan nilai ujian: \"))\n",
        "if nilai >= 60:\n",
        " print(\"Anda LULUS\")\n",
        "else:\n",
        " print(\"Anda TIDAK LULUS\")"
      ],
      "metadata": {
        "colab": {
          "base_uri": "https://localhost:8080/"
        },
        "id": "VYri4Qg0Xzfh",
        "outputId": "1b618426-282f-4fef-d36f-9b0c9cb835be"
      },
      "execution_count": null,
      "outputs": [
        {
          "output_type": "stream",
          "name": "stdout",
          "text": [
            "Masukkan nilai ujian: 50\n",
            "Anda TIDAK LULUS\n"
          ]
        }
      ]
    },
    {
      "cell_type": "markdown",
      "source": [
        "#Praktikum 03 – If-Elif-Else\n"
      ],
      "metadata": {
        "id": "8OfcdB1yYCE0"
      }
    },
    {
      "cell_type": "code",
      "source": [
        "nilai = int(input(\"Masukkan nilai akhir: \"))\n",
        "if nilai >= 85:\n",
        "  grade = \"A\"\n",
        "elif nilai >= 70:\n",
        "  grade = \"B\"\n",
        "elif nilai >= 55:\n",
        "  grade = \"C\"\n",
        "elif nilai >= 40:\n",
        "  grade = \"D\"\n",
        "else:\n",
        "  grade = \"E\"\n",
        "\n",
        "print(f\"Nilai Anda {nilai}, maka grade Anda = {grade}\")"
      ],
      "metadata": {
        "colab": {
          "base_uri": "https://localhost:8080/"
        },
        "id": "itwH1KRQYT5C",
        "outputId": "5cca3a31-d7d0-4cd5-d40a-84fdbe8269c6"
      },
      "execution_count": null,
      "outputs": [
        {
          "output_type": "stream",
          "name": "stdout",
          "text": [
            "Masukkan nilai akhir: 78\n",
            "Nilai Anda 78, maka grade Anda = B\n"
          ]
        }
      ]
    },
    {
      "cell_type": "markdown",
      "source": [
        "#Praktikum 04 – Nested If"
      ],
      "metadata": {
        "id": "VmOZEm4_ZOy4"
      }
    },
    {
      "cell_type": "code",
      "source": [
        "ipk = float(input(\"Masukkan IPK: \"))\n",
        "sks = int(input(\"Masukkan jumlah SKS: \"))\n",
        "\n",
        "if ipk >= 3.0:\n",
        "  if sks >= 18:\n",
        "    print(\"Anda LAYAK mendapat beasiswa\")\n",
        "  else:\n",
        "    print(\"IPK memenuhi, tapi SKS kurang\")\n",
        "else:\n",
        "    print(\"Anda TIDAK layak mendapat beasiswa\")"
      ],
      "metadata": {
        "colab": {
          "base_uri": "https://localhost:8080/"
        },
        "id": "YqjXZyACZR4u",
        "outputId": "42bbcd6b-794f-4fe0-da4f-1a9dbb520806"
      },
      "execution_count": null,
      "outputs": [
        {
          "output_type": "stream",
          "name": "stdout",
          "text": [
            "Masukkan IPK: 2.8\n",
            "Masukkan jumlah SKS: 20\n",
            "Anda TIDAK layak mendapat beasiswa\n"
          ]
        }
      ]
    },
    {
      "cell_type": "markdown",
      "source": [
        "#Praktikum 05 – Match-Case"
      ],
      "metadata": {
        "id": "XXY0SFPeZ9TX"
      }
    },
    {
      "cell_type": "code",
      "source": [
        "menu = int(input(\"Pilih menu (1-3): \"))\n",
        "\n",
        "match menu:\n",
        "  case 1:\n",
        "    print(\"Anda memilih Nasi Goreng\")\n",
        "  case 2:\n",
        "    print(\"Anda memilih Mie Ayam\")\n",
        "  case 3:\n",
        "    print(\"Anda memilih Soto AYam\")\n",
        "  case _:\n",
        "    print(\"Menu tidak tersedia\")"
      ],
      "metadata": {
        "colab": {
          "base_uri": "https://localhost:8080/"
        },
        "id": "pP32iTM9Z_xj",
        "outputId": "bd8d3d1e-e56f-47a0-81b3-7a3ddcbd87f1"
      },
      "execution_count": null,
      "outputs": [
        {
          "output_type": "stream",
          "name": "stdout",
          "text": [
            "Pilih menu (1-3): 9\n",
            "Menu tidak tersedia\n"
          ]
        }
      ]
    },
    {
      "cell_type": "markdown",
      "source": [
        "#Praktikum 06 – Studi Kasus: Program Kasir"
      ],
      "metadata": {
        "id": "ZfnXzUlNbDXD"
      }
    },
    {
      "cell_type": "code",
      "source": [
        "barang = input(\"Masukkan nama barang: \")\n",
        "harga = float(input(\"Masukkan harga barang: \"))\n",
        "jumlah = int(input(\"Masukkan jumlah barang: \"))\n",
        "\n",
        "total = harga * jumlah\n",
        "\n",
        "if total >= 500000:\n",
        "  diskon = 0.2\n",
        "elif total >= 250000:\n",
        "  diskon = 0.1\n",
        "else:\n",
        "  diskon = 0\n",
        "\n",
        "bayar = total - (total * diskon)\n",
        "\n",
        "print(\"\\n===== Struk Belanja =====\")\n",
        "print(f\"Barang : {barang}\")\n",
        "print(f\"Jumlah : {jumlah}\")\n",
        "print(f\"Total : Rp {total}\")\n",
        "print(f\"Diskon : {diskon*100}%\")\n",
        "print(f\"Bayar : Rp {bayar}\")"
      ],
      "metadata": {
        "colab": {
          "base_uri": "https://localhost:8080/"
        },
        "id": "GcUO_I6JbHI5",
        "outputId": "646a013b-2aea-4ef0-f136-cd196ef04d94"
      },
      "execution_count": null,
      "outputs": [
        {
          "output_type": "stream",
          "name": "stdout",
          "text": [
            "Masukkan nama barang: Pulpen\n",
            "Masukkan harga barang: 5000\n",
            "Masukkan jumlah barang: 10\n",
            "\n",
            "===== Struk Belanja =====\n",
            "Barang : Pulpen\n",
            "Jumlah : 10\n",
            "Total : Rp 50000.0\n",
            "Diskon : 0%\n",
            "Bayar : Rp 50000.0\n"
          ]
        }
      ]
    },
    {
      "cell_type": "markdown",
      "source": [
        "#Penugasan 03, Cek Bilangan Positif/Negatif/Nol"
      ],
      "metadata": {
        "id": "up-cI15De5pg"
      }
    },
    {
      "cell_type": "code",
      "source": [
        "bilangan = int(input(\"Masukkan sebuah bilangan bulat: \"))\n",
        "\n",
        "if bilangan > 0:\n",
        "  print(\"Bilangan tersebut adalah positif\")\n",
        "elif bilangan < 0:\n",
        "  print(\"Bilangan tersebut adalah negatif\")\n",
        "else:\n",
        "  print(\"Bilangan tersebut adalah nol\")"
      ],
      "metadata": {
        "colab": {
          "base_uri": "https://localhost:8080/"
        },
        "id": "p6oZQCHbe9O6",
        "outputId": "8a904a7f-ab30-4446-9bcb-e7f09c493411"
      },
      "execution_count": null,
      "outputs": [
        {
          "output_type": "stream",
          "name": "stdout",
          "text": [
            "Masukkan sebuah bilangan bulat: 0\n",
            "Bilangan tersebut adalah nol\n"
          ]
        }
      ]
    },
    {
      "cell_type": "markdown",
      "source": [
        "#Penugasan 04, Menentukan kategori Usia"
      ],
      "metadata": {
        "id": "JnOijqNngQW6"
      }
    },
    {
      "cell_type": "code",
      "metadata": {
        "id": "a1c83f38",
        "colab": {
          "base_uri": "https://localhost:8080/"
        },
        "outputId": "ab96c095-5fe3-4175-9636-94fadc04d75a"
      },
      "source": [
        "umur = int(input(\"Masukkan umur: \"))\n",
        "\n",
        "if umur < 5:\n",
        "  kategori = \"Balita\"\n",
        "elif umur >= 5 and umur <= 11:\n",
        "  kategori = \"Anak-anak\"\n",
        "elif umur >= 12 and umur <= 17:\n",
        "  kategori = \"Remaja\"\n",
        "elif umur >= 18 and umur <= 59:\n",
        "  kategori = \"Dewasa\"\n",
        "else:\n",
        "  kategori = \"Lansia\"\n",
        "\n",
        "print(f\"Umur Anda {umur}, maka kategori Anda adalah {kategori}\")"
      ],
      "execution_count": null,
      "outputs": [
        {
          "output_type": "stream",
          "name": "stdout",
          "text": [
            "Masukkan umur: 79\n",
            "Umur Anda 79, maka kategori Anda adalah Lansia\n"
          ]
        }
      ]
    },
    {
      "cell_type": "markdown",
      "source": [
        "#Penugasan 05, Hitung Tarif Parkir"
      ],
      "metadata": {
        "id": "7gltjf53hVrw"
      }
    },
    {
      "cell_type": "code",
      "metadata": {
        "id": "6c8083ac",
        "colab": {
          "base_uri": "https://localhost:8080/"
        },
        "outputId": "52f6dec2-1f2e-4f83-8a32-6768a346a203"
      },
      "source": [
        "lama_parkir = int(input(\"Masukkan lama parkir (dalam jam): \"))\n",
        "\n",
        "tarif_awal = 5000\n",
        "tarif_berikutnya = 2000\n",
        "tarif_maksimal = 20000\n",
        "\n",
        "if lama_parkir <= 2:\n",
        "  tarif_parkir = tarif_awal\n",
        "else:\n",
        "  tarif_parkir = tarif_awal + (lama_parkir - 2) * tarif_berikutnya\n",
        "\n",
        "if tarif_parkir > tarif_maksimal:\n",
        "  tarif_parkir = tarif_maksimal\n",
        "\n",
        "print(f\"Lama parkir: {lama_parkir} jam\")\n",
        "print(f\"Tarif parkir: Rp {tarif_parkir}\")"
      ],
      "execution_count": null,
      "outputs": [
        {
          "output_type": "stream",
          "name": "stdout",
          "text": [
            "Masukkan lama parkir (dalam jam): 10\n",
            "Lama parkir: 10 jam\n",
            "Tarif parkir: Rp 20000\n"
          ]
        }
      ]
    },
    {
      "cell_type": "markdown",
      "source": [
        "#Penugasan 06, Cek Login Sederhana"
      ],
      "metadata": {
        "id": "0fH5zxdwiadW"
      }
    },
    {
      "cell_type": "code",
      "source": [
        "username = input(\"Masukkan username: \")\n",
        "password = input(\"Masukkan password: \")\n",
        "\n",
        "if username == \"admin\" and password == \"1234\":\n",
        "  print(\"Login berhasil\")\n",
        "else:\n",
        "  print(\"Login gagal\")"
      ],
      "metadata": {
        "id": "c0-RC4Hpifje",
        "colab": {
          "base_uri": "https://localhost:8080/"
        },
        "outputId": "99e523cf-24a6-450d-e023-7633a8fdb7ea"
      },
      "execution_count": null,
      "outputs": [
        {
          "output_type": "stream",
          "name": "stdout",
          "text": [
            "Masukkan username: jono\n",
            "Masukkan password: 123\n",
            "Login gagal\n"
          ]
        }
      ]
    },
    {
      "cell_type": "markdown",
      "source": [
        "#Penugasan 07, One-Liner If (Cek Genap/Ganjil)\n"
      ],
      "metadata": {
        "id": "VdPcTPoyjJkU"
      }
    },
    {
      "cell_type": "code",
      "metadata": {
        "id": "6702c0de",
        "colab": {
          "base_uri": "https://localhost:8080/"
        },
        "outputId": "9bdd6b5a-b96e-489e-8ec9-f6e8d9c2d3a0"
      },
      "source": [
        "bilangan = int(input(\"Masukkan sebuah bilangan bulat: \"))\n",
        "\n",
        "# Menggunakan one-liner if untuk menentukan genap atau ganjil\n",
        "status = \"Genap\" if bilangan % 2 == 0 else \"Ganjil\"\n",
        "\n",
        "print(f\"Bilangan {bilangan} adalah {status}\")"
      ],
      "execution_count": 60,
      "outputs": [
        {
          "output_type": "stream",
          "name": "stdout",
          "text": [
            "Masukkan sebuah bilangan bulat: 4\n",
            "Bilangan 4 adalah Genap\n"
          ]
        }
      ]
    },
    {
      "cell_type": "markdown",
      "source": [
        "#Penugasan 08, Menu Restoran dengan Match-Case"
      ],
      "metadata": {
        "id": "sTbVsnvtjpxV"
      }
    },
    {
      "cell_type": "code",
      "source": [
        "menu = int(input(\"Pilih menu (1-3): \"))\n",
        "\n",
        "match menu:\n",
        "  case 1:\n",
        "    print(\"Anda memilih Nasi Goreng\")\n",
        "  case 2:\n",
        "    print(\"Anda memilih Mie Ayam\")\n",
        "  case 3:\n",
        "    print(\"Anda memilih Soto AYam\")\n",
        "  case _:\n",
        "    print(\"Menu tidak tersedia\")"
      ],
      "metadata": {
        "colab": {
          "base_uri": "https://localhost:8080/"
        },
        "id": "Azm2fyQ5jtdz",
        "outputId": "30a74332-bbcd-4b1c-849e-215db8159979"
      },
      "execution_count": 64,
      "outputs": [
        {
          "output_type": "stream",
          "name": "stdout",
          "text": [
            "Pilih menu (1-3): 9\n",
            "Menu tidak tersedia\n"
          ]
        }
      ]
    },
    {
      "cell_type": "markdown",
      "source": [
        "#Penugasan 09,Studi Kasus Nyata – Program Penentuan Diskon"
      ],
      "metadata": {
        "id": "AqQWAB6hkIst"
      }
    },
    {
      "cell_type": "code",
      "source": [
        "barang = input(\"Masukkan nama barang: \")\n",
        "harga = float(input(\"Masukkan harga barang: \"))\n",
        "jumlah = int(input(\"Masukkan jumlah barang: \"))\n",
        "\n",
        "total = harga * jumlah\n",
        "\n",
        "if total >= 500000:\n",
        "  diskon = 0.2\n",
        "elif total >= 250000:\n",
        "  diskon = 0.1\n",
        "else:\n",
        "  diskon = 0\n",
        "\n",
        "bayar = total - (total * diskon)\n",
        "\n",
        "print(\"\\n===== Struk Belanja =====\")\n",
        "print(f\"Barang : {barang}\")\n",
        "print(f\"Harga : {harga}\")\n",
        "print(f\"Jumlah : {jumlah}\")\n",
        "print(f\"Total : Rp {total}\")\n",
        "print(f\"Diskon : {diskon*100}%\")\n",
        "print(f\"Bayar : Rp {bayar}\")"
      ],
      "metadata": {
        "colab": {
          "base_uri": "https://localhost:8080/"
        },
        "id": "x4Iyti1jkPpw",
        "outputId": "830c685f-fda8-406f-80e8-4f2cab7476b7"
      },
      "execution_count": 69,
      "outputs": [
        {
          "output_type": "stream",
          "name": "stdout",
          "text": [
            "Masukkan nama barang: ikat pinggang\n",
            "Masukkan harga barang: 30000\n",
            "Masukkan jumlah barang: 1\n",
            "\n",
            "===== Struk Belanja =====\n",
            "Barang : ikat pinggang\n",
            "Harga : 30000.0\n",
            "Jumlah : 1\n",
            "Total : Rp 30000.0\n",
            "Diskon : 0%\n",
            "Bayar : Rp 30000.0\n"
          ]
        }
      ]
    }
  ]
}