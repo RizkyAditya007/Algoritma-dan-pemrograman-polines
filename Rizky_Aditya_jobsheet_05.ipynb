{
  "nbformat": 4,
  "nbformat_minor": 0,
  "metadata": {
    "colab": {
      "provenance": [],
      "authorship_tag": "ABX9TyMKVlTfWG4g1utXUlyQ+7NG",
      "include_colab_link": true
    },
    "kernelspec": {
      "name": "python3",
      "display_name": "Python 3"
    },
    "language_info": {
      "name": "python"
    }
  },
  "cells": [
    {
      "cell_type": "markdown",
      "metadata": {
        "id": "view-in-github",
        "colab_type": "text"
      },
      "source": [
        "<a href=\"https://colab.research.google.com/github/RizkyAditya007/Algoritma-dan-pemrograman-polines/blob/main/Rizky_Aditya_jobsheet_05.ipynb\" target=\"_parent\"><img src=\"https://colab.research.google.com/assets/colab-badge.svg\" alt=\"Open In Colab\"/></a>"
      ]
    },
    {
      "cell_type": "markdown",
      "source": [
        "#Praktikum 01 – Indexing dan Slicing"
      ],
      "metadata": {
        "id": "WjgyPdw4QHjJ"
      }
    },
    {
      "cell_type": "code",
      "execution_count": null,
      "metadata": {
        "colab": {
          "base_uri": "https://localhost:8080/"
        },
        "id": "C6VWfYVvP7zE",
        "outputId": "80494a50-02e2-4ce0-c458-58791e324ff9"
      },
      "outputs": [
        {
          "output_type": "stream",
          "name": "stdout",
          "text": [
            "P\n",
            "Politeknik \n",
            "Semarang\n"
          ]
        }
      ],
      "source": [
        "teks = \"Politeknik Negeri Semarang\"\n",
        "print(teks[0]) # 'P'\n",
        "print(teks[0:11]) # 'Politeknik'\n",
        "print(teks[-8:]) # 'Semarang'"
      ]
    },
    {
      "cell_type": "markdown",
      "source": [
        "#Praktikum 02 – Method Bawaan String"
      ],
      "metadata": {
        "id": "jzTpg_ivQrnu"
      }
    },
    {
      "cell_type": "code",
      "source": [
        "teks = \" Politeknik Negeri Semarang \"\n",
        "print(teks.upper())\n",
        "print(teks.lower())\n",
        "print(teks.title())\n",
        "print(teks.strip())\n",
        "print(teks.split(\" \"))\n",
        "print(\"-\".join([\"Politeknik\",\"Negeri\",\"Semarang\"]))"
      ],
      "metadata": {
        "colab": {
          "base_uri": "https://localhost:8080/"
        },
        "id": "QIu5ZCFrQuZY",
        "outputId": "87f5a541-c152-4461-fd9c-a1aaca3e0353"
      },
      "execution_count": null,
      "outputs": [
        {
          "output_type": "stream",
          "name": "stdout",
          "text": [
            " POLITEKNIK NEGERI SEMARANG \n",
            " politeknik negeri semarang \n",
            " Politeknik Negeri Semarang \n",
            "Politeknik Negeri Semarang\n",
            "['', 'Politeknik', 'Negeri', 'Semarang', '']\n",
            "Politeknik-Negeri-Semarang\n"
          ]
        }
      ]
    },
    {
      "cell_type": "markdown",
      "source": [
        "#Praktikum 03 – Validasi Password"
      ],
      "metadata": {
        "id": "-qfcbYASRGpS"
      }
    },
    {
      "cell_type": "code",
      "source": [
        "password = input(\"Masukkan password: \")\n",
        "\n",
        "if len(password) >= 8:\n",
        "  print(\"Password valid\")\n",
        "else:\n",
        "  print(\"Password terlalu pendek\")"
      ],
      "metadata": {
        "colab": {
          "base_uri": "https://localhost:8080/"
        },
        "id": "IVi1dpJIRKJx",
        "outputId": "3d24ca25-e66a-44e8-ce78-5abf5f909891"
      },
      "execution_count": null,
      "outputs": [
        {
          "output_type": "stream",
          "name": "stdout",
          "text": [
            "Masukkan password: python123\n",
            "Password valid\n"
          ]
        }
      ]
    },
    {
      "cell_type": "code",
      "source": [
        "password = input(\"Masukkan password: \")\n",
        "\n",
        "if len(password) >= 8:\n",
        "  print(\"Password valid\")\n",
        "else:\n",
        "  print(\"Password terlalu pendek\")"
      ],
      "metadata": {
        "colab": {
          "base_uri": "https://localhost:8080/"
        },
        "id": "nDdgZO6nRb6T",
        "outputId": "45949a29-6937-4471-c951-3322b590baf3"
      },
      "execution_count": null,
      "outputs": [
        {
          "output_type": "stream",
          "name": "stdout",
          "text": [
            "Masukkan password: abc\n",
            "Password terlalu pendek\n"
          ]
        }
      ]
    },
    {
      "cell_type": "markdown",
      "source": [
        "#Praktikum 04 – String Formatting dengan F-String"
      ],
      "metadata": {
        "id": "lUJemFd_RjbP"
      }
    },
    {
      "cell_type": "code",
      "source": [
        "nama = input(\"Masukkan nama: \")\n",
        "umur = int(input(\"Masukkan umur: \"))\n",
        "\n",
        "print(f\"Nama saya {nama}, umur {umur} tahun.\")"
      ],
      "metadata": {
        "colab": {
          "base_uri": "https://localhost:8080/"
        },
        "id": "nzeqby_ZRleS",
        "outputId": "6aaa23cc-e39a-4da6-ab8a-cb61a0b9a713"
      },
      "execution_count": null,
      "outputs": [
        {
          "output_type": "stream",
          "name": "stdout",
          "text": [
            "Masukkan nama: Budi\n",
            "Masukkan umur: 21\n",
            "Nama saya Budi, umur 21 tahun.\n"
          ]
        }
      ]
    },
    {
      "cell_type": "markdown",
      "source": [
        "#Praktikum 05 – Operasi dalam F-String"
      ],
      "metadata": {
        "id": "uecJuQCoR_-X"
      }
    },
    {
      "cell_type": "code",
      "source": [
        "a = int(input(\"Masukkan nilai a: \"))\n",
        "b = int(input(\"Masukkan nilai b: \"))\n",
        "\n",
        "print(f\"Hasil penjumlahan {a}+{b} = {a+b}\")\n",
        "print(f\"Hasil pembagian {a}/{b} = {a/b:.2f}\")"
      ],
      "metadata": {
        "colab": {
          "base_uri": "https://localhost:8080/"
        },
        "id": "6HPV52IJSBe9",
        "outputId": "f570dfc5-466f-4a7b-d9cb-870a99023026"
      },
      "execution_count": null,
      "outputs": [
        {
          "output_type": "stream",
          "name": "stdout",
          "text": [
            "Masukkan nilai a: 10\n",
            "Masukkan nilai b: 3\n",
            "Hasil penjumlahan 10+3 = 13\n",
            "Hasil pembagian 10/3 = 3.33\n"
          ]
        }
      ]
    },
    {
      "cell_type": "markdown",
      "source": [
        "#Praktikum 06 – Casting String"
      ],
      "metadata": {
        "id": "SHW7dVMNSJf7"
      }
    },
    {
      "cell_type": "code",
      "source": [
        "angka = 123\n",
        "teks = \"456\"\n",
        "\n",
        "print(\"Nilai: \" + str(angka))\n",
        "print(int(teks) + 10)"
      ],
      "metadata": {
        "colab": {
          "base_uri": "https://localhost:8080/"
        },
        "id": "4Jz1hNmxSSfq",
        "outputId": "c5b18f4d-21b5-413d-e01a-863b1be2c4ec"
      },
      "execution_count": null,
      "outputs": [
        {
          "output_type": "stream",
          "name": "stdout",
          "text": [
            "Nilai: 123\n",
            "466\n"
          ]
        }
      ]
    },
    {
      "cell_type": "markdown",
      "source": [
        "#Praktikum 07 – Studi Kasus Nyata: Analisis Kalimat"
      ],
      "metadata": {
        "id": "gQLpk_vkSd3o"
      }
    },
    {
      "cell_type": "code",
      "source": [
        "kalimat = \"Saya kuliah di Politeknik Negeri Semarang\"\n",
        "daftar_kata = kalimat.split(\" \")\n",
        "print(f\"Jumlah kata: {len(daftar_kata)}\")\n",
        "for i, kata in enumerate(daftar_kata, start=1):\n",
        "  print(i, kata)"
      ],
      "metadata": {
        "colab": {
          "base_uri": "https://localhost:8080/"
        },
        "id": "Yr4tB7ybSguT",
        "outputId": "b4898fb7-6afc-43c7-ad55-e96a6c39651a"
      },
      "execution_count": null,
      "outputs": [
        {
          "output_type": "stream",
          "name": "stdout",
          "text": [
            "Jumlah kata: 6\n",
            "1 Saya\n",
            "2 kuliah\n",
            "3 di\n",
            "4 Politeknik\n",
            "5 Negeri\n",
            "6 Semarang\n"
          ]
        }
      ]
    },
    {
      "cell_type": "markdown",
      "source": [
        "#Penugasan 03 - Indexing dan Slicing"
      ],
      "metadata": {
        "id": "xJ6W5OQpLGJ2"
      }
    },
    {
      "cell_type": "code",
      "source": [
        "teks = \"Politeknik Negeri Semarang\"\n",
        "print(\"huruf pertama adalah:\", teks[0]) # 'P'\n",
        "print(\"huruf kedua adalah:\", teks[-1]) # 'g'\n",
        "print(\"kata tengah:\", teks[11:-8]) # 'Negeri'"
      ],
      "metadata": {
        "colab": {
          "base_uri": "https://localhost:8080/"
        },
        "id": "tcHxU9JbLcQB",
        "outputId": "f37b6b3d-8a87-4f0b-fca8-e37150590724"
      },
      "execution_count": null,
      "outputs": [
        {
          "output_type": "stream",
          "name": "stdout",
          "text": [
            "huruf pertama adalah: P\n",
            "huruf kedua adalah: g\n",
            "kata tengah: Negeri \n"
          ]
        }
      ]
    },
    {
      "cell_type": "markdown",
      "source": [
        "#Penugasan 04 - Manipulasi String"
      ],
      "metadata": {
        "id": "W3Kxi8diPIkf"
      }
    },
    {
      "cell_type": "code",
      "source": [
        "kalimat = input(\"Masukan Kalimat\")\n",
        "\n",
        "print(\"Kalimat dalam huruf kapital:\", kalimat.upper())\n",
        "print(\"Kalimat dalam huruf kescil:\", kalimat.lower())\n",
        "print(\"Panjang kalimat:\", len(kalimat))"
      ],
      "metadata": {
        "colab": {
          "base_uri": "https://localhost:8080/"
        },
        "id": "Snuf8KOZPMaJ",
        "outputId": "ee074b01-5dbd-45f7-c1e9-512828e89918"
      },
      "execution_count": null,
      "outputs": [
        {
          "output_type": "stream",
          "name": "stdout",
          "text": [
            "Masukan Kalimatsaya seorang mahasiswa polines\n",
            "Kalimat dalam huruf kapital: SAYA SEORANG MAHASISWA POLINES\n",
            "Kalimat dalam huruf kescil: saya seorang mahasiswa polines\n",
            "Panjang kalimat: 30\n"
          ]
        }
      ]
    },
    {
      "cell_type": "markdown",
      "source": [
        "#Penugasan 05 - Validasi Username"
      ],
      "metadata": {
        "id": "uYJFR6gzQvOh"
      }
    },
    {
      "cell_type": "code",
      "source": [
        "username = input(\"Masukkan username: \")\n",
        "\n",
        "if \" \" not in username :\n",
        "  print(\"username valid\")\n",
        "else:\n",
        "  print(\"username tidak valid\")"
      ],
      "metadata": {
        "colab": {
          "base_uri": "https://localhost:8080/"
        },
        "id": "f0WCV_iIQycH",
        "outputId": "f824a242-4bd4-4165-bff5-62212c723ffe"
      },
      "execution_count": null,
      "outputs": [
        {
          "output_type": "stream",
          "name": "stdout",
          "text": [
            "Masukkan username: adit123\n",
            "username valid\n"
          ]
        }
      ]
    },
    {
      "cell_type": "code",
      "source": [
        "username = input(\"Masukkan username: \")\n",
        "\n",
        "if \" \" not in username :\n",
        "  print(\"username valid\")\n",
        "else:\n",
        "  print(\"username tidak valid\")"
      ],
      "metadata": {
        "colab": {
          "base_uri": "https://localhost:8080/"
        },
        "id": "Yr3qjzbeUOvy",
        "outputId": "0becb61c-6931-4e36-cd43-3c86d690108e"
      },
      "execution_count": null,
      "outputs": [
        {
          "output_type": "stream",
          "name": "stdout",
          "text": [
            "Masukkan username: adit 123\n",
            "username tidak valid\n"
          ]
        }
      ]
    },
    {
      "cell_type": "markdown",
      "source": [
        "#penugasan 06 - String Formatting dengan F-String"
      ],
      "metadata": {
        "id": "wcjKGqBFUYVd"
      }
    },
    {
      "cell_type": "code",
      "source": [
        "nama = input(\"Masukkan nama: \")\n",
        "umur = int(input(\"Masukkan umur: \"))\n",
        "jurusan = input(\"Masukkan jurusan: \")\n",
        "\n",
        "print(f\"Nama:\", nama)\n",
        "print(f\"Umur:\", umur)\n",
        "print(f\"Jurusan:\", jurusan)"
      ],
      "metadata": {
        "colab": {
          "base_uri": "https://localhost:8080/"
        },
        "id": "ydkEF9jVUcPt",
        "outputId": "83bad1b7-5b10-4a11-925a-f263b160824c"
      },
      "execution_count": null,
      "outputs": [
        {
          "output_type": "stream",
          "name": "stdout",
          "text": [
            "Masukkan nama: Andi\n",
            "Masukkan umur: 20\n",
            "Masukkan jurusan: Teknologi Rekayasa Komputer\n",
            "Nama: Andi\n",
            "Umur: 20\n",
            "Jurusan: Teknologi Rekayasa Komputer\n"
          ]
        }
      ]
    },
    {
      "cell_type": "markdown",
      "source": [
        "#Penugasan 07 - Operasi dalam F-String"
      ],
      "metadata": {
        "id": "LaYw7iMFVxX2"
      }
    },
    {
      "cell_type": "code",
      "source": [
        "a = int(input(\"Masukkan nilai a: \"))\n",
        "b = int(input(\"Masukkan nilai b: \"))\n",
        "\n",
        "print(f\"Hasil penjumlahan {a}+{b} = {a+b}\")\n",
        "print(f\"Hasil penjumlahan {a}*{b} = {a*b}\")\n",
        "print(f\"Hasil pembagian {a}/{b} = {a/b:.3f}\")"
      ],
      "metadata": {
        "colab": {
          "base_uri": "https://localhost:8080/"
        },
        "id": "CifXBevmU9FI",
        "outputId": "caad26ec-424f-4c78-ce87-4054afca6384"
      },
      "execution_count": 76,
      "outputs": [
        {
          "output_type": "stream",
          "name": "stdout",
          "text": [
            "Masukkan nilai a: 10\n",
            "Masukkan nilai b: 3\n",
            "Hasil penjumlahan 10+3 = 13\n",
            "Hasil penjumlahan 10*3 = 30\n",
            "Hasil pembagian 10/3 = 3.333\n"
          ]
        }
      ]
    },
    {
      "cell_type": "markdown",
      "source": [
        "#Penugasan 08 - Casting Data"
      ],
      "metadata": {
        "id": "Zy1C6bxGXDr5"
      }
    },
    {
      "cell_type": "code",
      "source": [
        "angka_str = input(\"Masukkan angka:\")\n",
        "\n",
        "angka_int = int(angka_str)\n",
        "kuadrat = angka_int ** 2\n",
        "\n",
        "print(f\"Angka Kuadrat dari {angka_int} adalah {kuadrat}\")\n",
        "angka_float = float(angka_str)\n",
        "print(f\"2 Angka di belakang koma: {angka_float:.2f}\")"
      ],
      "metadata": {
        "colab": {
          "base_uri": "https://localhost:8080/"
        },
        "id": "wcIP790kWKzy",
        "outputId": "ecd7a7d7-736e-4f42-bfb0-5856cc1afe37"
      },
      "execution_count": 77,
      "outputs": [
        {
          "output_type": "stream",
          "name": "stdout",
          "text": [
            "Masukkan angka:9\n",
            "Angka Kuadrat dari 9 adalah 81\n",
            "2 Angka di belakang koma: 9.00\n"
          ]
        }
      ]
    },
    {
      "cell_type": "markdown",
      "source": [
        "#Penugasan 09 - Studi Kasus – Analisis Teks"
      ],
      "metadata": {
        "id": "YYLTdsn1bBuU"
      }
    },
    {
      "cell_type": "code",
      "source": [
        "kalimat = input(\"Masukan kalimat:\")\n",
        "\n",
        "daftar_kata = kalimat.split()\n",
        "kata_amount = len(daftar_kata)\n",
        "kata_long = max(daftar_kata, key=len)\n",
        "kata_sorted = sorted(daftar_kata)\n",
        "\n",
        "print(f\"Jumlah kata: {kata_amount}\")\n",
        "print(f\"Kata terpanjang: {kata_long}\")\n",
        "print(\"Daftar kata (urut abjad)\")\n",
        "for kata in kata_sorted:\n",
        "  print(\"-\", kata)"
      ],
      "metadata": {
        "colab": {
          "base_uri": "https://localhost:8080/"
        },
        "id": "qnDyZGh_Z9qE",
        "outputId": "4a61f7dc-ea91-4ad3-a112-3f8183384179"
      },
      "execution_count": 90,
      "outputs": [
        {
          "output_type": "stream",
          "name": "stdout",
          "text": [
            "Masukan kalimat:saya bermain di rumah Aji\n",
            "Jumlah kata: 5\n",
            "Kata terpanjang: bermain\n",
            "Daftar kata (urut abjad)\n",
            "- Aji\n",
            "- bermain\n",
            "- di\n",
            "- rumah\n",
            "- saya\n"
          ]
        }
      ]
    }
  ]
}