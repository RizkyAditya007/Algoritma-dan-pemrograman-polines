{
  "nbformat": 4,
  "nbformat_minor": 0,
  "metadata": {
    "colab": {
      "provenance": [],
      "authorship_tag": "ABX9TyOoKxophNu+EVNlaJC4I/Lw",
      "include_colab_link": true
    },
    "kernelspec": {
      "name": "python3",
      "display_name": "Python 3"
    },
    "language_info": {
      "name": "python"
    }
  },
  "cells": [
    {
      "cell_type": "markdown",
      "metadata": {
        "id": "view-in-github",
        "colab_type": "text"
      },
      "source": [
        "<a href=\"https://colab.research.google.com/github/RizkyAditya007/Algoritma-dan-pemrograman-polines/blob/main/Rizky_Aditya_jobsheet_01.ipynb\" target=\"_parent\"><img src=\"https://colab.research.google.com/assets/colab-badge.svg\" alt=\"Open In Colab\"/></a>"
      ]
    },
    {
      "cell_type": "markdown",
      "source": [
        "#Praktikum 01. Menghitung Luas Persegi Panjang"
      ],
      "metadata": {
        "id": "UTYCih4pjUFg"
      }
    },
    {
      "cell_type": "code",
      "source": [
        "p = int(input(\"Masukan Panjang:\"))\n",
        "l = int(input(\"masukan Lebar:\"))\n",
        "luas = p * l\n",
        "print(\"Luas Persegi Panjang:\",luas)"
      ],
      "metadata": {
        "colab": {
          "base_uri": "https://localhost:8080/"
        },
        "id": "1OmBkeksjpvn",
        "outputId": "9a429101-7635-46b2-d7f5-b37adab299d6"
      },
      "execution_count": null,
      "outputs": [
        {
          "output_type": "stream",
          "name": "stdout",
          "text": [
            "Masukan Panjang:20\n",
            "masukan Lebar:2\n",
            "Luas Persegi Panjang: 40\n"
          ]
        }
      ]
    },
    {
      "cell_type": "markdown",
      "source": [
        "#Praktikum 02. Menghitung Luas Segitiga (Rumus Heron)"
      ],
      "metadata": {
        "id": "wP4aRj7Rk4lk"
      }
    },
    {
      "cell_type": "code",
      "source": [
        "import math\n",
        "a = float(input(\"masukan sisi a:\"))\n",
        "b = float(input(\"masukan sisi b:\"))\n",
        "c = float(input(\"masukan sisi c:\"))\n",
        "s = (a + b + c)/2\n",
        "luas = math.sqrt(s * (s-a) * (s - b) * (s - c))\n",
        "print(\"luas segitiga =\",luas)"
      ],
      "metadata": {
        "colab": {
          "base_uri": "https://localhost:8080/"
        },
        "id": "HN2O63j8ksCl",
        "outputId": "6f9ba643-cd37-4926-a19e-428a1f0242eb"
      },
      "execution_count": null,
      "outputs": [
        {
          "output_type": "stream",
          "name": "stdout",
          "text": [
            "masukan sisi a:10\n",
            "masukan sisi b:10\n",
            "masukan sisi c:10\n",
            "luas segitiga = 43.30127018922193\n"
          ]
        }
      ]
    },
    {
      "cell_type": "markdown",
      "source": [
        "#Praktikum 03. Konversi Suhu Celcius ke Fahrenheit"
      ],
      "metadata": {
        "id": "BvzNK12wpYPv"
      }
    },
    {
      "cell_type": "code",
      "source": [
        "c = float(input(\"masukan suhu (°C):\"))\n",
        "f = (c * 9/5) + 32\n",
        "print(\"hasil konversi =\", f, \"°F\")"
      ],
      "metadata": {
        "colab": {
          "base_uri": "https://localhost:8080/"
        },
        "id": "H2eTOTsZpaPe",
        "outputId": "261ecc18-36ee-4335-a568-821634908adf"
      },
      "execution_count": null,
      "outputs": [
        {
          "output_type": "stream",
          "name": "stdout",
          "text": [
            "masukan suhu (°C):20\n",
            "hasil konversi = 68.0 °F\n"
          ]
        }
      ]
    },
    {
      "cell_type": "markdown",
      "source": [
        "#Praktikum 04. Menghitung Umur Berdasarkan Tahun Lahir"
      ],
      "metadata": {
        "id": "8YYvccjpq4Q_"
      }
    },
    {
      "cell_type": "code",
      "source": [
        "tahun_lahir = int(input(\"masukan tahun lahir: \"))\n",
        "tahun_sekarang = 2025\n",
        "umur = tahun_sekarang - tahun_lahir\n",
        "print(\"umur anda =\", umur, \"tahun\")"
      ],
      "metadata": {
        "colab": {
          "base_uri": "https://localhost:8080/"
        },
        "id": "PCYvDNo6q7xe",
        "outputId": "887c2bac-e90a-4386-8ad8-768f952397b5"
      },
      "execution_count": null,
      "outputs": [
        {
          "output_type": "stream",
          "name": "stdout",
          "text": [
            "masukan tahun lahir: 2007\n",
            "umur anda = 18 tahun\n"
          ]
        }
      ]
    },
    {
      "cell_type": "markdown",
      "source": [
        "#Praktikum 05. Menghitung Luas Lingkaran"
      ],
      "metadata": {
        "id": "eA8Rc7m8sGuI"
      }
    },
    {
      "cell_type": "code",
      "source": [
        "import math\n",
        "r = float(input(\"masukan jari-jari lingkatan: \"))\n",
        "luas = math.pi * r * r\n",
        "print(\"luas lingkaran =\", luas)"
      ],
      "metadata": {
        "colab": {
          "base_uri": "https://localhost:8080/"
        },
        "id": "9mJmGjdhsPeL",
        "outputId": "f1f736f3-4613-40f1-ec83-a8c5e70fa522"
      },
      "execution_count": null,
      "outputs": [
        {
          "output_type": "stream",
          "name": "stdout",
          "text": [
            "masukan jari-jari lingkatan: 10\n",
            "luas lingkaran = 314.1592653589793\n"
          ]
        }
      ]
    },
    {
      "cell_type": "markdown",
      "source": [
        "#Praktikum 06. Menjumlahkan Tiga Bilangan"
      ],
      "metadata": {
        "id": "4NbqCFBKsxAV"
      }
    },
    {
      "cell_type": "code",
      "source": [
        "a = int(input(\"masukan bilangan pertama:\"))\n",
        "b = int(input(\"masukan bilangan kedua:\"))\n",
        "c = int(input(\"masukan bilangan ketiga:\"))\n",
        "jumlah = a + b + c\n",
        "print(\"jumlah =\", jumlah)"
      ],
      "metadata": {
        "colab": {
          "base_uri": "https://localhost:8080/"
        },
        "id": "af8Fv1QyszEi",
        "outputId": "8e0d55bb-05f1-464f-f7c1-aab249dc2bdc"
      },
      "execution_count": null,
      "outputs": [
        {
          "output_type": "stream",
          "name": "stdout",
          "text": [
            "masukan bilangan pertama:5\n",
            "masukan bilangan kedua:5\n",
            "masukan bilangan ketiga:5\n",
            "jumlah = 15\n"
          ]
        }
      ]
    },
    {
      "cell_type": "markdown",
      "source": [
        "#penugasan 1,Menghitung Volume Balok"
      ],
      "metadata": {
        "id": "XspXrcv3tE-K"
      }
    },
    {
      "cell_type": "code",
      "source": [
        "p = float(input(\"masukan panjang:\"))\n",
        "l = float(input(\"masukan lebar:\"))\n",
        "t = float(input(\"masukan tinggi:\"))\n",
        "v = p * l * t\n",
        "print(\"Volume adalah=\", v)"
      ],
      "metadata": {
        "colab": {
          "base_uri": "https://localhost:8080/"
        },
        "id": "V1mL7A8atJLT",
        "outputId": "a6559565-6c82-4eaa-ce37-081248dc8f10"
      },
      "execution_count": null,
      "outputs": [
        {
          "output_type": "stream",
          "name": "stdout",
          "text": [
            "masukan panjang:5\n",
            "masukan lebar:5\n",
            "masukan tinggi:5\n",
            "Volume adalah= 125\n"
          ]
        }
      ]
    },
    {
      "cell_type": "markdown",
      "source": [
        "#Penugasan 2, Konversi Waktu Detik ke Jam:Menit:Detik"
      ],
      "metadata": {
        "id": "HW0ih1ans-K-"
      }
    },
    {
      "cell_type": "code",
      "source": [
        "total_detik = int(input(\"masukan detik:\"))\n",
        "jam = total_detik // 3600\n",
        "sisa_detik = total_detik % 3600\n",
        "menit = sisa_detik // 60\n",
        "detik = sisa_detik % 60\n",
        "\n",
        "print(f\"{jam} jam, {menit} menit, {detik} detik\")"
      ],
      "metadata": {
        "colab": {
          "base_uri": "https://localhost:8080/"
        },
        "id": "MD_nhvxotEoq",
        "outputId": "5aac5856-d638-48e3-e379-3c6d4cb8c160"
      },
      "execution_count": null,
      "outputs": [
        {
          "output_type": "stream",
          "name": "stdout",
          "text": [
            "masukan detik:3670\n",
            "1 jam, 1 menit, 10 detik\n"
          ]
        }
      ]
    },
    {
      "cell_type": "markdown",
      "source": [
        "#Penugasan 3,Rata-rata Nilai Tiga Mata Kuliah"
      ],
      "metadata": {
        "id": "NVIKktaNthdj"
      }
    },
    {
      "cell_type": "code",
      "source": [
        "nilai1 = float(input(\"masukan nilai mata kuliah 1:\"))\n",
        "nilai2 = float(input(\"masukan nilai mata kuliah 2:\"))\n",
        "nilai3 = float(input(\"masukan nilai mata kuliah 3:\"))\n",
        "rata_rata = (nilai1 + nilai2 + nilai3) / 3\n",
        "print(\"\\nRata_rata nilai:\", rata_rata)\n",
        "if rata_rata>= 60:\n",
        "  print(\"keterangan LULUS:\")\n",
        "else:\n",
        "  print(\"keterangan TIDAK LULUS:\")"
      ],
      "metadata": {
        "colab": {
          "base_uri": "https://localhost:8080/"
        },
        "id": "s2pIuA1ctock",
        "outputId": "086530d2-32da-4d10-a942-ab4f3ca22ed6"
      },
      "execution_count": null,
      "outputs": [
        {
          "output_type": "stream",
          "name": "stdout",
          "text": [
            "masukan nilai mata kuliah 1:50\n",
            "masukan nilai mata kuliah 2:20\n",
            "masukan nilai mata kuliah 3:60\n",
            "\n",
            "Rata_rata nilai: 43.333333333333336\n",
            "keterangan TIDAK LULUS:\n"
          ]
        }
      ]
    },
    {
      "cell_type": "markdown",
      "source": [
        "#Penugasan 4, Menghitung Diskon Belanja"
      ],
      "metadata": {
        "id": "20NmfzzqyY5h"
      }
    },
    {
      "cell_type": "code",
      "source": [
        "belanja = float(input(\"masukan total belanja: Rp\"))\n",
        "if belanja >= 500000 :\n",
        "  diskon = 0.2 * belanja\n",
        "elif belanja >= 250000 :\n",
        "  diskon = 0.1 * belanja\n",
        "else:\n",
        "  diskon = 0\n",
        "total_bayar = belanja - diskon\n",
        "print(f\"Total belanja : Rp {belanja:,.0f}\")\n",
        "print(f\"Diskon        : {diskon:.0f}\")\n",
        "print(f\"Total bayar   : Rp {total_bayar:,.0f}\")"
      ],
      "metadata": {
        "colab": {
          "base_uri": "https://localhost:8080/"
        },
        "id": "ShCJGilVylYq",
        "outputId": "469de482-b1cc-4595-bc94-6ad80f70aeca"
      },
      "execution_count": null,
      "outputs": [
        {
          "output_type": "stream",
          "name": "stdout",
          "text": [
            "masukan total belanja: Rp200000\n",
            "Total belanja : Rp 200,000\n",
            "Diskon        : 0\n",
            "Total bayar   : Rp 200,000\n"
          ]
        }
      ]
    }
  ]
}