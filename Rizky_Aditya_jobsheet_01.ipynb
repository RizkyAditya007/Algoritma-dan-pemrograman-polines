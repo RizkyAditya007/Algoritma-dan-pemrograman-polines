{
  "nbformat": 4,
  "nbformat_minor": 0,
  "metadata": {
    "colab": {
      "provenance": [],
      "authorship_tag": "ABX9TyPv+ta5Xz6kEy9B+f3eo0nP",
      "include_colab_link": true
    },
    "kernelspec": {
      "name": "python3",
      "display_name": "Python 3"
    },
    "language_info": {
      "name": "python"
    }
  },
  "cells": [
    {
      "cell_type": "markdown",
      "metadata": {
        "id": "view-in-github",
        "colab_type": "text"
      },
      "source": [
        "<a href=\"https://colab.research.google.com/github/RizkyAditya007/Algoritma-dan-pemrograman-polines/blob/main/Rizky_Aditya_jobsheet_01.ipynb\" target=\"_parent\"><img src=\"https://colab.research.google.com/assets/colab-badge.svg\" alt=\"Open In Colab\"/></a>"
      ]
    },
    {
      "cell_type": "markdown",
      "source": [
        "#Praktikum 01. Menghitung Luas Persegi Panjang"
      ],
      "metadata": {
        "id": "UTYCih4pjUFg"
      }
    },
    {
      "cell_type": "code",
      "source": [
        "p = int(input(\"Masukan Panjang:\"))\n",
        "l = int(input(\"masukan Lebar:\"))\n",
        "luas = p * l\n",
        "print(\"Luas Persegi Panjang:\",luas)"
      ],
      "metadata": {
        "colab": {
          "base_uri": "https://localhost:8080/"
        },
        "id": "1OmBkeksjpvn",
        "outputId": "9a429101-7635-46b2-d7f5-b37adab299d6"
      },
      "execution_count": null,
      "outputs": [
        {
          "output_type": "stream",
          "name": "stdout",
          "text": [
            "Masukan Panjang:20\n",
            "masukan Lebar:2\n",
            "Luas Persegi Panjang: 40\n"
          ]
        }
      ]
    },
    {
      "cell_type": "markdown",
      "source": [
        "#Praktikum 02. Menghitung Luas Segitiga (Rumus Heron)"
      ],
      "metadata": {
        "id": "wP4aRj7Rk4lk"
      }
    },
    {
      "cell_type": "code",
      "source": [
        "import math\n",
        "a = float(input(\"masukan sisi a:\"))\n",
        "b = float(input(\"masukan sisi b:\"))\n",
        "c = float(input(\"masukan sisi c:\"))\n",
        "s = (a + b + c)/2\n",
        "luas = math.sqrt(s * (s-a) * (s - b) * (s - c))\n",
        "print(\"luas segitiga =\",luas)"
      ],
      "metadata": {
        "colab": {
          "base_uri": "https://localhost:8080/"
        },
        "id": "HN2O63j8ksCl",
        "outputId": "6f9ba643-cd37-4926-a19e-428a1f0242eb"
      },
      "execution_count": null,
      "outputs": [
        {
          "output_type": "stream",
          "name": "stdout",
          "text": [
            "masukan sisi a:10\n",
            "masukan sisi b:10\n",
            "masukan sisi c:10\n",
            "luas segitiga = 43.30127018922193\n"
          ]
        }
      ]
    },
    {
      "cell_type": "markdown",
      "source": [
        "#Praktikum 03. Konversi Suhu Celcius ke Fahrenheit"
      ],
      "metadata": {
        "id": "BvzNK12wpYPv"
      }
    },
    {
      "cell_type": "code",
      "source": [
        "c = float(input(\"masukan suhu (°C):\"))\n",
        "f = (c * 9/5) + 32\n",
        "print(\"hasil konversi =\", f, \"°F\")"
      ],
      "metadata": {
        "colab": {
          "base_uri": "https://localhost:8080/"
        },
        "id": "H2eTOTsZpaPe",
        "outputId": "261ecc18-36ee-4335-a568-821634908adf"
      },
      "execution_count": null,
      "outputs": [
        {
          "output_type": "stream",
          "name": "stdout",
          "text": [
            "masukan suhu (°C):20\n",
            "hasil konversi = 68.0 °F\n"
          ]
        }
      ]
    },
    {
      "cell_type": "markdown",
      "source": [
        "#Praktikum 04. Menghitung Umur Berdasarkan Tahun Lahir"
      ],
      "metadata": {
        "id": "8YYvccjpq4Q_"
      }
    },
    {
      "cell_type": "code",
      "source": [
        "tahun_lahir = int(input(\"masukan tahun lahir: \"))\n",
        "tahun_sekarang = 2025\n",
        "umur = tahun_sekarang - tahun_lahir\n",
        "print(\"umur anda =\", umur, \"tahun\")"
      ],
      "metadata": {
        "colab": {
          "base_uri": "https://localhost:8080/"
        },
        "id": "PCYvDNo6q7xe",
        "outputId": "887c2bac-e90a-4386-8ad8-768f952397b5"
      },
      "execution_count": null,
      "outputs": [
        {
          "output_type": "stream",
          "name": "stdout",
          "text": [
            "masukan tahun lahir: 2007\n",
            "umur anda = 18 tahun\n"
          ]
        }
      ]
    },
    {
      "cell_type": "markdown",
      "source": [
        "#Praktikum 05. Menghitung Luas Lingkaran"
      ],
      "metadata": {
        "id": "eA8Rc7m8sGuI"
      }
    },
    {
      "cell_type": "code",
      "source": [
        "import math\n",
        "r = float(input(\"masukan jari-jari lingkatan: \"))\n",
        "luas = math.pi * r * r\n",
        "print(\"luas lingkaran =\", luas)"
      ],
      "metadata": {
        "colab": {
          "base_uri": "https://localhost:8080/"
        },
        "id": "9mJmGjdhsPeL",
        "outputId": "f1f736f3-4613-40f1-ec83-a8c5e70fa522"
      },
      "execution_count": null,
      "outputs": [
        {
          "output_type": "stream",
          "name": "stdout",
          "text": [
            "masukan jari-jari lingkatan: 10\n",
            "luas lingkaran = 314.1592653589793\n"
          ]
        }
      ]
    },
    {
      "cell_type": "markdown",
      "source": [
        "#Praktikum 06. Menjumlahkan Tiga Bilangan"
      ],
      "metadata": {
        "id": "4NbqCFBKsxAV"
      }
    },
    {
      "cell_type": "code",
      "source": [
        "a = int(input(\"masukan bilangan pertama:\"))\n",
        "b = int(input(\"masukan bilangan kedua:\"))\n",
        "c = int(input(\"masukan bilangan ketiga:\"))\n",
        "jumlah = a + b + c\n",
        "print(\"jumlah =\", jumlah)"
      ],
      "metadata": {
        "colab": {
          "base_uri": "https://localhost:8080/"
        },
        "id": "af8Fv1QyszEi",
        "outputId": "8e0d55bb-05f1-464f-f7c1-aab249dc2bdc"
      },
      "execution_count": null,
      "outputs": [
        {
          "output_type": "stream",
          "name": "stdout",
          "text": [
            "masukan bilangan pertama:5\n",
            "masukan bilangan kedua:5\n",
            "masukan bilangan ketiga:5\n",
            "jumlah = 15\n"
          ]
        }
      ]
    }
  ]
}