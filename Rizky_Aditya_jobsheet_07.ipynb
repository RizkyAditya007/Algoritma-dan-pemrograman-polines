{
  "nbformat": 4,
  "nbformat_minor": 0,
  "metadata": {
    "colab": {
      "provenance": [],
      "authorship_tag": "ABX9TyMGYGRZCm8XWiK+ChKVabRe",
      "include_colab_link": true
    },
    "kernelspec": {
      "name": "python3",
      "display_name": "Python 3"
    },
    "language_info": {
      "name": "python"
    }
  },
  "cells": [
    {
      "cell_type": "markdown",
      "metadata": {
        "id": "view-in-github",
        "colab_type": "text"
      },
      "source": [
        "<a href=\"https://colab.research.google.com/github/RizkyAditya007/Algoritma-dan-pemrograman-polines/blob/main/Rizky_Aditya_jobsheet_07.ipynb\" target=\"_parent\"><img src=\"https://colab.research.google.com/assets/colab-badge.svg\" alt=\"Open In Colab\"/></a>"
      ]
    },
    {
      "cell_type": "markdown",
      "source": [
        "#Praktikum 01 – Tuple: Data Tetap yang Tidak Bisa Diubah"
      ],
      "metadata": {
        "id": "VLoL1B5NNCZG"
      }
    },
    {
      "cell_type": "code",
      "execution_count": null,
      "metadata": {
        "id": "BRsuwmz3DoQc",
        "colab": {
          "base_uri": "https://localhost:8080/"
        },
        "outputId": "0b432d2f-11d7-40d8-c9a8-3b92759e6b07"
      },
      "outputs": [
        {
          "output_type": "stream",
          "name": "stdout",
          "text": [
            "Lintang: 7.05\n",
            "Bujur: 110.44\n"
          ]
        }
      ],
      "source": [
        "koordinat = (7.05, 110.44)\n",
        "print(\"Lintang:\", koordinat[0])\n",
        "print(\"Bujur:\", koordinat[1])"
      ]
    },
    {
      "cell_type": "markdown",
      "source": [
        "#Praktikum 02 – Dictionary Dasar: Menyimpan Data Mahasiswa"
      ],
      "metadata": {
        "id": "OaCsXH3wNNzO"
      }
    },
    {
      "cell_type": "code",
      "source": [
        "mahasiswa = {\n",
        "    \"NIM\": \"20251001\",\n",
        "    \"Nama\": \"Andi\",\n",
        "    \"Prodi\": \"TRK\"\n",
        "}\n",
        "print(\"NIM:\", mahasiswa[\"NIM\"])\n",
        "print(\"Nama:\", mahasiswa[\"Nama\"])\n",
        "print(\"NIM:\", mahasiswa[\"Prodi\"])"
      ],
      "metadata": {
        "colab": {
          "base_uri": "https://localhost:8080/"
        },
        "id": "_0LKZ01WNRHz",
        "outputId": "7493f8fd-17fb-413c-aff7-2e8df36ed21f"
      },
      "execution_count": null,
      "outputs": [
        {
          "output_type": "stream",
          "name": "stdout",
          "text": [
            "NIM: 20251001\n",
            "Nama: Andi\n",
            "NIM: TRK\n"
          ]
        }
      ]
    },
    {
      "cell_type": "markdown",
      "source": [
        "#Praktikum 03 – Operasi pada Dictionary"
      ],
      "metadata": {
        "id": "gjLXPCAtOYve"
      }
    },
    {
      "cell_type": "code",
      "source": [
        "mahasiswa = {\n",
        "    \"NIM\": \"20251001\",\n",
        "    \"Nama\": \"Andi\",\n",
        "    \"Prodi\": \"TRK\"\n",
        "}\n",
        "\n",
        "mahasiswa[\"Umur\"] = 20 # menambah data\n",
        "mahasiswa[\"Prodi\"] = \"Teknik Komputer\" # memperbarui data\n",
        "del mahasiswa[\"Umur\"] # menghapus data\n",
        "\n",
        "print(mahasiswa)"
      ],
      "metadata": {
        "colab": {
          "base_uri": "https://localhost:8080/"
        },
        "id": "yzW5Rtw9Oa6-",
        "outputId": "93752ab4-db3d-4694-eb36-5358ef690c5a"
      },
      "execution_count": null,
      "outputs": [
        {
          "output_type": "stream",
          "name": "stdout",
          "text": [
            "{'NIM': '20251001', 'Nama': 'Andi', 'Prodi': 'Teknik Komputer'}\n"
          ]
        }
      ]
    },
    {
      "cell_type": "markdown",
      "source": [
        "#Praktikum 04 – Set dan Operasi Himpunan"
      ],
      "metadata": {
        "id": "fgQ4HWO_POic"
      }
    },
    {
      "cell_type": "code",
      "source": [
        "A = {1, 2, 3, 4}\n",
        "B = {3, 4, 5, 6}\n",
        "\n",
        "print(\"Union:\", A | B)\n",
        "print(\"Intersection:\", A & B)\n",
        "print(\"Difference:\", A - B)"
      ],
      "metadata": {
        "colab": {
          "base_uri": "https://localhost:8080/"
        },
        "id": "f15LT-dIPQ7M",
        "outputId": "4b486646-63fd-4fd0-f0fb-63a0b2dbdfe8"
      },
      "execution_count": null,
      "outputs": [
        {
          "output_type": "stream",
          "name": "stdout",
          "text": [
            "Union: {1, 2, 3, 4, 5, 6}\n",
            "Intersection: {3, 4}\n",
            "Difference: {1, 2}\n"
          ]
        }
      ]
    },
    {
      "cell_type": "markdown",
      "source": [
        "#Praktikum 05 – Studi Kasus: Data Mahasiswa dan Mata Kuliah"
      ],
      "metadata": {
        "id": "DZkR4JVfPesH"
      }
    },
    {
      "cell_type": "code",
      "source": [
        "mhs1 = {\"Algoritma\", \"Matematika\", \"Bahasa Inggris\"}\n",
        "mhs2 = {\"Algoritma\", \"Basis Data\", \"Matematika\"}\n",
        "\n",
        "print(\"Mata kuliah Mhs1:\", mhs1)\n",
        "print(\"Mata kuliah Mhs2:\", mhs2)\n",
        "print(\"Mata kuliah yang sama:\", mhs1 & mhs2)"
      ],
      "metadata": {
        "colab": {
          "base_uri": "https://localhost:8080/"
        },
        "id": "3fXedyfoPhOs",
        "outputId": "0d590d62-f477-4e61-b9c1-b738ded27970"
      },
      "execution_count": null,
      "outputs": [
        {
          "output_type": "stream",
          "name": "stdout",
          "text": [
            "Mata kuliah Mhs1: {'Algoritma', 'Bahasa Inggris', 'Matematika'}\n",
            "Mata kuliah Mhs2: {'Algoritma', 'Basis Data', 'Matematika'}\n",
            "Mata kuliah yang sama: {'Algoritma', 'Matematika'}\n"
          ]
        }
      ]
    },
    {
      "cell_type": "markdown",
      "source": [
        "#Praktikum 06 – Studi Kasus Dictionary: Daftar Nilai Mahasiswa"
      ],
      "metadata": {
        "id": "AfmNJGFGPuLS"
      }
    },
    {
      "cell_type": "code",
      "source": [
        "nilai_mahasiswa = {\n",
        "    \"Andi\": 80,\n",
        "    \"Budi\": 75,\n",
        "    \"Cici\": 90\n",
        "}\n",
        "\n",
        "for nama, nilai in nilai_mahasiswa.items():\n",
        "  print(f\"{nama}: {nilai}\")\n",
        "\n",
        "rata = sum(nilai_mahasiswa.values()) / len(nilai_mahasiswa)\n",
        "print(f\"Rata-rata nilai: {rata:.2f}\")"
      ],
      "metadata": {
        "colab": {
          "base_uri": "https://localhost:8080/"
        },
        "id": "i5C77YP5P5DC",
        "outputId": "a0b9be6b-c331-4a0d-dc1d-5b6f797496dd"
      },
      "execution_count": null,
      "outputs": [
        {
          "output_type": "stream",
          "name": "stdout",
          "text": [
            "Andi: 80\n",
            "Budi: 75\n",
            "Cici: 90\n",
            "Rata-rata nilai: 81.67\n"
          ]
        }
      ]
    },
    {
      "cell_type": "markdown",
      "source": [
        "#Penugasan 03 - Tuple Sederhana"
      ],
      "metadata": {
        "id": "cDWFncjRQP6g"
      }
    },
    {
      "cell_type": "code",
      "source": [
        "mahasiswa_tuple = (\"Budi\", 22, \"Teknik Informatika\")\n",
        "\n",
        "print(\"Nama:\", mahasiswa_tuple[0])\n",
        "print(\"Umur:\", mahasiswa_tuple[1])\n",
        "print(\"Prodi:\", mahasiswa_tuple[2])"
      ],
      "metadata": {
        "id": "ZtLlDjMzQL7N",
        "colab": {
          "base_uri": "https://localhost:8080/"
        },
        "outputId": "ccfec702-b69a-4b0c-da10-e021c2107dcb"
      },
      "execution_count": null,
      "outputs": [
        {
          "output_type": "stream",
          "name": "stdout",
          "text": [
            "Nama: Budi\n",
            "Umur: 22\n",
            "Prodi: Teknik Informatika\n"
          ]
        }
      ]
    },
    {
      "cell_type": "markdown",
      "source": [
        "#Penugasan 04 - Tuple Tidak Bisa Diubah"
      ],
      "metadata": {
        "id": "FmixM32dRBPq"
      }
    },
    {
      "cell_type": "code",
      "source": [
        "angka = (1, 2, 3)\n",
        "\n",
        "angka [0] = 10\n",
        "\n",
        "print(angka)"
      ],
      "metadata": {
        "colab": {
          "base_uri": "https://localhost:8080/",
          "height": 211
        },
        "id": "I27e0hfdQ_OL",
        "outputId": "c1ad7b4a-ba24-42c7-da83-ca7771b25376"
      },
      "execution_count": null,
      "outputs": [
        {
          "output_type": "error",
          "ename": "TypeError",
          "evalue": "'tuple' object does not support item assignment",
          "traceback": [
            "\u001b[0;31m---------------------------------------------------------------------------\u001b[0m",
            "\u001b[0;31mTypeError\u001b[0m                                 Traceback (most recent call last)",
            "\u001b[0;32m/tmp/ipython-input-161863975.py\u001b[0m in \u001b[0;36m<cell line: 0>\u001b[0;34m()\u001b[0m\n\u001b[1;32m      1\u001b[0m \u001b[0mangka\u001b[0m \u001b[0;34m=\u001b[0m \u001b[0;34m(\u001b[0m\u001b[0;36m1\u001b[0m\u001b[0;34m,\u001b[0m \u001b[0;36m2\u001b[0m\u001b[0;34m,\u001b[0m \u001b[0;36m3\u001b[0m\u001b[0;34m)\u001b[0m\u001b[0;34m\u001b[0m\u001b[0;34m\u001b[0m\u001b[0m\n\u001b[1;32m      2\u001b[0m \u001b[0;34m\u001b[0m\u001b[0m\n\u001b[0;32m----> 3\u001b[0;31m \u001b[0mangka\u001b[0m \u001b[0;34m[\u001b[0m\u001b[0;36m0\u001b[0m\u001b[0;34m]\u001b[0m \u001b[0;34m=\u001b[0m \u001b[0;36m10\u001b[0m\u001b[0;34m\u001b[0m\u001b[0;34m\u001b[0m\u001b[0m\n\u001b[0m\u001b[1;32m      4\u001b[0m \u001b[0;34m\u001b[0m\u001b[0m\n\u001b[1;32m      5\u001b[0m \u001b[0mprint\u001b[0m\u001b[0;34m(\u001b[0m\u001b[0mangka\u001b[0m\u001b[0;34m)\u001b[0m\u001b[0;34m\u001b[0m\u001b[0;34m\u001b[0m\u001b[0m\n",
            "\u001b[0;31mTypeError\u001b[0m: 'tuple' object does not support item assignment"
          ]
        }
      ]
    },
    {
      "cell_type": "markdown",
      "source": [
        "#Penugasan 05 - Dictionary Dasar"
      ],
      "metadata": {
        "id": "MUD31B2KRn2v"
      }
    },
    {
      "cell_type": "code",
      "source": [
        "buku = {\"Judul\": \"Algoritma\", \"Penulis\": \"Munir\", \"Tahun\": 2021}\n",
        "\n",
        "print(\"Judul:\", buku[\"Judul\"])\n",
        "print(\"Penulis:\", buku[\"Penulis\"])\n",
        "print(\"Tahun:\", buku[\"Tahun\"])"
      ],
      "metadata": {
        "colab": {
          "base_uri": "https://localhost:8080/"
        },
        "id": "wwwK64G5RdIQ",
        "outputId": "7782bc99-d9ff-4adb-bec7-62beb84c159d"
      },
      "execution_count": null,
      "outputs": [
        {
          "output_type": "stream",
          "name": "stdout",
          "text": [
            "Judul: Algoritma\n",
            "Penulis: Munir\n",
            "Tahun: 2021\n"
          ]
        }
      ]
    },
    {
      "cell_type": "markdown",
      "source": [
        "#Penugasan 06 - Operasi Dictionary"
      ],
      "metadata": {
        "id": "zzExEdQoSqes"
      }
    },
    {
      "cell_type": "code",
      "source": [
        "dosen = {\"NIP\": \"12345\", \"Nama\": \"Budi\", \"Prodi\": \"TRK\"}\n",
        "\n",
        "dosen[\"Umur\"] = 40\n",
        "dosen[\"Prodi\"] = \"Teknik Komputer\"\n",
        "del dosen[\"Umur\"]\n",
        "\n",
        "print(dosen)"
      ],
      "metadata": {
        "id": "xdm2NMskStZm",
        "colab": {
          "base_uri": "https://localhost:8080/"
        },
        "outputId": "1c5fe465-3673-405c-e8a0-7d2224a864c5"
      },
      "execution_count": 16,
      "outputs": [
        {
          "output_type": "stream",
          "name": "stdout",
          "text": [
            "{'NIP': '12345', 'Nama': 'Budi', 'Prodi': 'Teknik Komputer'}\n"
          ]
        }
      ]
    },
    {
      "cell_type": "markdown",
      "source": [
        "#Penugasan 07 - Set dan Himpunan"
      ],
      "metadata": {
        "id": "Cg_09Ra-TMY2"
      }
    },
    {
      "cell_type": "code",
      "source": [
        "A = {\"Matematika\", \"Algoritma\", \"Bahasa Inggris\"}\n",
        "B = {\"Algoritma\", \"Basis Data\", \"Matematika\"}\n",
        "\n",
        "print(\"Union:\", A | B)\n",
        "print(\"Intersection:\", A & B)\n",
        "print(\"Difference:\", A - B)"
      ],
      "metadata": {
        "colab": {
          "base_uri": "https://localhost:8080/"
        },
        "id": "savLSY1QTKqJ",
        "outputId": "5946b0b7-fee2-4dc0-f549-b8bacf2b0a44"
      },
      "execution_count": 17,
      "outputs": [
        {
          "output_type": "stream",
          "name": "stdout",
          "text": [
            "Union: {'Algoritma', 'Basis Data', 'Bahasa Inggris', 'Matematika'}\n",
            "Intersection: {'Algoritma', 'Matematika'}\n",
            "Difference: {'Bahasa Inggris'}\n"
          ]
        }
      ]
    },
    {
      "cell_type": "markdown",
      "source": [
        "#Penugasan 08 - Studi Kasus Dictionary"
      ],
      "metadata": {
        "id": "4z7EaTADUAQT"
      }
    },
    {
      "cell_type": "code",
      "source": [
        "nilai_mahasiswa = {\n",
        "    \"Andi\": 85,\n",
        "    \"Budi\": 90,\n",
        "    \"Cici\": 78\n",
        "}\n",
        "\n",
        "for nama, nilai in nilai_mahasiswa.items():\n",
        "  print(f\"{nama}: {nilai}\")\n",
        "\n",
        "rata = sum(nilai_mahasiswa.values()) / len(nilai_mahasiswa)\n",
        "print(f\"Rata-rata nilai: {rata:.2f}\")"
      ],
      "metadata": {
        "colab": {
          "base_uri": "https://localhost:8080/"
        },
        "id": "r_pQhz29T4pz",
        "outputId": "eeebf932-580d-44df-8af9-9ae91487bf87"
      },
      "execution_count": 18,
      "outputs": [
        {
          "output_type": "stream",
          "name": "stdout",
          "text": [
            "Andi: 85\n",
            "Budi: 90\n",
            "Cici: 78\n",
            "Rata-rata nilai: 84.33\n"
          ]
        }
      ]
    },
    {
      "cell_type": "markdown",
      "source": [
        "#Penugasan 09 - Studi Kasus Set – Klub Mahasiswa"
      ],
      "metadata": {
        "id": "n2X58s0iUZqd"
      }
    },
    {
      "cell_type": "code",
      "source": [
        "klub_a = {\"Andi\", \"Budi\", \"Cici\"}\n",
        "klub_b = {\"Cici\", \"Deni\", \"Eka\"}\n",
        "\n",
        "print(\"Daftar seluruh anggota:\", klub_a | klub_b, \"(Union)\")\n",
        "print(\"Anggota yang berada di klub yang sama :\", klub_a & klub_b, \"(Intersection)\")\n",
        "\n",
        "\n",
        "print(\"Anggota yang hanya ada di Klub A tetapi tidak di Klub B:\", klub_a - klub_b, \"(Difference)\")"
      ],
      "metadata": {
        "colab": {
          "base_uri": "https://localhost:8080/"
        },
        "id": "SymX9_LMUUxl",
        "outputId": "0c11906a-5dc0-4a77-e11f-2a18393c5707"
      },
      "execution_count": 20,
      "outputs": [
        {
          "output_type": "stream",
          "name": "stdout",
          "text": [
            "Daftar seluruh anggota: {'Andi', 'Deni', 'Budi', 'Eka', 'Cici'} (Union)\n",
            "Anggota yang berada di klub yang sama : {'Cici'} (Intersection)\n",
            "Anggota yang hanya ada di Klub A tetapi tidak di Klub B: {'Andi', 'Budi'} (Difference)\n"
          ]
        }
      ]
    },
    {
      "cell_type": "code",
      "source": [],
      "metadata": {
        "id": "XXUSYigxWFHQ"
      },
      "execution_count": null,
      "outputs": []
    }
  ]
}