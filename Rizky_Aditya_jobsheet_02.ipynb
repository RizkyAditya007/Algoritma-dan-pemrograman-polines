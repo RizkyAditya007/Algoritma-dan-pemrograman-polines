{
  "nbformat": 4,
  "nbformat_minor": 0,
  "metadata": {
    "colab": {
      "provenance": [],
      "authorship_tag": "ABX9TyMDIjYSDscmaR3FK01sJBjt",
      "include_colab_link": true
    },
    "kernelspec": {
      "name": "python3",
      "display_name": "Python 3"
    },
    "language_info": {
      "name": "python"
    }
  },
  "cells": [
    {
      "cell_type": "markdown",
      "metadata": {
        "id": "view-in-github",
        "colab_type": "text"
      },
      "source": [
        "<a href=\"https://colab.research.google.com/github/RizkyAditya007/Algoritma-dan-pemrograman-polines/blob/main/Rizky_Aditya_jobsheet_02.ipynb\" target=\"_parent\"><img src=\"https://colab.research.google.com/assets/colab-badge.svg\" alt=\"Open In Colab\"/></a>"
      ]
    },
    {
      "cell_type": "markdown",
      "source": [
        "#Praktikum 01 – Pengenalan Variabel dan Tipe Data"
      ],
      "metadata": {
        "id": "ja-Pjqy6qp1D"
      }
    },
    {
      "cell_type": "code",
      "source": [
        "# Integer\n",
        "umur = 20\n",
        "print (\"Umur:\", umur, \"→\", type(umur))\n",
        "\n",
        "# Float\n",
        "tinggi = 170.5\n",
        "print (\"Tinggi:\", tinggi, \"→\", type(tinggi))\n",
        "\n",
        "# String\n",
        "nama = \"Andi\"\n",
        "print (\"Nama:\", nama, \"→\", type(nama))\n",
        "\n",
        "# Boolean\n",
        "is_mahasiswa = True\n",
        "print (\"Status Mahasiswa:\", is_mahasiswa, \"→\", type(is_mahasiswa))\n",
        "\n",
        "# List\n",
        "nilai = [80, 85, 90]\n",
        "print (\"Nilai:\", nilai, \"→\", type(nilai))\n",
        "\n",
        "# Tuple\n",
        "koordinat = (10, 20)\n",
        "print (\"Koordinat:\", koordinat, \"→\", type(koordinat))\n",
        "\n",
        "# Dictionary\n",
        "mahasiswa = {\"nama\": \"Andi\", \"umur\": 20, \"prodi\": \"TRK\"}\n",
        "print (\"Data Mahasiswa:\", mahasiswa, \"→\", type(mahasiswa))\n",
        "\n",
        "# Set\n",
        "hobi = {\"membaca\", \"olahraga\", \"musik\"}\n",
        "print (\"Hobi:\", hobi, \"→\", type(hobi))"
      ],
      "metadata": {
        "colab": {
          "base_uri": "https://localhost:8080/"
        },
        "id": "wcyxgihZrIFK",
        "outputId": "6bd81e4c-10e9-4662-93ce-1400e1a351fa"
      },
      "execution_count": null,
      "outputs": [
        {
          "output_type": "stream",
          "name": "stdout",
          "text": [
            "Umur: 20 → <class 'int'>\n",
            "Tinggi: 170.5 → <class 'float'>\n",
            "Nama: Andi → <class 'str'>\n",
            "Status Mahasiswa: True → <class 'bool'>\n",
            "Nilai: [80, 85, 90] → <class 'list'>\n",
            "Koordinat: (10, 20) → <class 'tuple'>\n",
            "Data Mahasiswa: {'nama': 'Andi', 'umur': 20, 'prodi': 'TRK'} → <class 'dict'>\n",
            "Hobi: {'musik', 'olahraga', 'membaca'} → <class 'set'>\n"
          ]
        }
      ]
    },
    {
      "cell_type": "markdown",
      "source": [
        "#Praktikum 02 – Input dan Output Dasar"
      ],
      "metadata": {
        "id": "3ka4JKI7vFuz"
      }
    },
    {
      "cell_type": "code",
      "source": [
        "nama = input(\"Masukan Nama Anda: \")\n",
        "umur = int(input(\"Masukkan umur Anda: \"))\n",
        "tinggi = float(input(\"Masukkan tinggi badan (cm): \"))\n",
        "\n",
        "# Output standar\n",
        "print(\"Halo,\", nama, \"umur Anda:\", umur, \"tahun, tinggi:\", tinggi, \"cm\")\n",
        "\n",
        "# Output dengan format()\n",
        "print(\"Halo {0}, umur Anda {1} tahun, tinggi {2} cm\".format(nama, umur,\n",
        "tinggi))\n",
        "\n",
        "# Output dengan f-string\n",
        "print(f\"Halo {nama}, umur Anda {umur} tahun, tinggi {tinggi} cm\")"
      ],
      "metadata": {
        "colab": {
          "base_uri": "https://localhost:8080/"
        },
        "id": "kJHmfEIZwSEd",
        "outputId": "7bd8de23-6cf6-4ae3-a2a4-d067377f29cf"
      },
      "execution_count": null,
      "outputs": [
        {
          "output_type": "stream",
          "name": "stdout",
          "text": [
            "Masukan Nama Anda: Rizky Aditya\n",
            "Masukkan umur Anda: 18\n",
            "Masukkan tinggi badan (cm): 182\n",
            "Halo, Rizky Aditya umur Anda: 18 tahun, tinggi: 182.0 cm\n",
            "Halo Rizky Aditya, umur Anda 18 tahun, tinggi 182.0 cm\n",
            "Halo Rizky Aditya, umur Anda 18 tahun, tinggi 182.0 cm\n"
          ]
        }
      ]
    },
    {
      "cell_type": "markdown",
      "source": [
        "#Praktikum 03 – Operator Aritmatika"
      ],
      "metadata": {
        "id": "bNSDLeikzUJZ"
      }
    },
    {
      "cell_type": "code",
      "source": [
        "a = 15\n",
        "b = 4\n",
        "\n",
        "print(\"a + b =\", a + b)\n",
        "print(\"a - b =\", a - b)\n",
        "print(\"a * b =\", a * b)\n",
        "print(\"a / b =\", a / b)\n",
        "print(\"a // b =\", a // b)\n",
        "print(\"a % b =\", a % b)\n",
        "print(\"a ** b =\", a ** b)"
      ],
      "metadata": {
        "colab": {
          "base_uri": "https://localhost:8080/"
        },
        "id": "mLaDuQtLzWTn",
        "outputId": "9faa8643-5eff-406a-a193-0ed8e75a59f2"
      },
      "execution_count": null,
      "outputs": [
        {
          "output_type": "stream",
          "name": "stdout",
          "text": [
            "a + b = 19\n",
            "a - b = 11\n",
            "a * b = 60\n",
            "a / b = 3.75\n",
            "a // b = 3\n",
            "a % b = 3\n",
            "a ** b = 50625\n"
          ]
        }
      ]
    },
    {
      "cell_type": "markdown",
      "source": [
        "#Praktikum 04 – Operator Relasional"
      ],
      "metadata": {
        "id": "t1MmSH3fz41r"
      }
    },
    {
      "cell_type": "code",
      "source": [
        "x = 10\n",
        "y = 20\n",
        "\n",
        "print(\"x == y:\", x == y)\n",
        "print(\"x != y:\", x != y)\n",
        "print(\"x > y:\", x > y)\n",
        "print(\"x < y:\", x < y)\n",
        "print(\"x <= y :\", x <= y)\n",
        "print(\"x >= y :\", x >= y)"
      ],
      "metadata": {
        "colab": {
          "base_uri": "https://localhost:8080/"
        },
        "id": "lhvA5RJ9z7en",
        "outputId": "c77846d8-0cbd-41fe-affa-d9fac2a0ab7a"
      },
      "execution_count": null,
      "outputs": [
        {
          "output_type": "stream",
          "name": "stdout",
          "text": [
            "x == y: False\n",
            "x != y: True\n",
            "x > y: False\n",
            "x < y: True\n",
            "x <= y : True\n",
            "x >= y : False\n"
          ]
        }
      ]
    },
    {
      "cell_type": "markdown",
      "source": [
        "#Praktikum 05 – Operator Logika dengan Studi Kasus Nyata"
      ],
      "metadata": {
        "id": "dwX6ibc00QRD"
      }
    },
    {
      "cell_type": "code",
      "source": [
        "a = True\n",
        "b = False\n",
        "\n",
        "print(\"a and b =\", a and b)\n",
        "print(\"a or b =\", a or b)\n",
        "print(\"not a =\", not a)\n",
        "\n",
        "nilai = int(input(\"Masukkan nilai ujian: \"))\n",
        "hadir = int(input(\"Masukkan jumlah kehadiran: \"))\n",
        "\n",
        "lulus_nilai = nilai >= 60\n",
        "lulus_hadir = hadir >= 12 # dari 16 pertemuan\n",
        "\n",
        "if lulus_nilai and lulus_hadir:\n",
        " print(\"Status: LULUS\")\n",
        "else:\n",
        " print(\"Status: TIDAK LULUS\")"
      ],
      "metadata": {
        "colab": {
          "base_uri": "https://localhost:8080/"
        },
        "id": "eDqSoe4b0Sdp",
        "outputId": "925aec87-3bed-41bd-c203-fdfdc5bf9df2"
      },
      "execution_count": null,
      "outputs": [
        {
          "output_type": "stream",
          "name": "stdout",
          "text": [
            "a and b = False\n",
            "a or b = True\n",
            "not a = False\n",
            "Masukkan nilai ujian: 100\n",
            "Masukkan jumlah kehadiran: 12\n",
            "Status: LULUS\n"
          ]
        }
      ]
    },
    {
      "cell_type": "markdown",
      "source": [
        "#Praktikum 06 – Program Kasir Sederhana"
      ],
      "metadata": {
        "id": "jSzCSrQEBs5L"
      }
    },
    {
      "cell_type": "code",
      "source": [
        "barang = input(\"Masukkan nama barang: \")\n",
        "harga = float(input(\"Masukkan harga barang: \"))\n",
        "jumlah = int(input(\"Masukkan jumlah barang: \"))\n",
        "\n",
        "total = harga * jumlah\n",
        "\n",
        "if total >= 500000:\n",
        "  diskon = 0.2\n",
        "elif total >= 250000:\n",
        " diskon = 0.1\n",
        "else:\n",
        " diskon = 0\n",
        "\n",
        "potongan = total * diskon\n",
        "bayar = total - potongan\n",
        "\n",
        "print(\"\\n===== Struk Belanja =====\")\n",
        "print(f\"Barang : {barang}\")\n",
        "print(f\"Jumlah : {jumlah}\")\n",
        "print(f\"Total : Rp {total}\")\n",
        "print(f\"Diskon : {diskon * 100}%\")\n",
        "print(f\"Bayar : Rp {bayar}\")"
      ],
      "metadata": {
        "colab": {
          "base_uri": "https://localhost:8080/"
        },
        "id": "E2CtXgqwBvOP",
        "outputId": "ff19841b-360b-4ee8-83ef-25fe22f5687c"
      },
      "execution_count": null,
      "outputs": [
        {
          "output_type": "stream",
          "name": "stdout",
          "text": [
            "Masukkan nama barang: keychain\n",
            "Masukkan harga barang: 2500\n",
            "Masukkan jumlah barang: 15\n",
            "\n",
            "===== Struk Belanja =====\n",
            "Barang : keychain\n",
            "Jumlah : 15\n",
            "Total : Rp 37500.0\n",
            "Diskon : 0%\n",
            "Bayar : Rp 37500.0\n"
          ]
        }
      ]
    },
    {
      "cell_type": "markdown",
      "source": [
        "# Penugasan 03, Identitas Mahasiswa"
      ],
      "metadata": {
        "id": "JX8F67m7HAO6"
      }
    },
    {
      "cell_type": "code",
      "source": [
        "nama = input(\"Masukan Nama Anda: \")\n",
        "umur = int(input(\"Masukkan umur Anda: \"))\n",
        "tinggi = float(input(\"Masukkan tinggi badan (cm): \"))\n",
        "status_aktif = input(\"Status aktif (aktif/tidak aktif): \")\n",
        "print(f\"Halo {nama}, Umur {umur} tahun, tinggi {tinggi} cm, Status {status_aktif}\" )"
      ],
      "metadata": {
        "id": "rhV9FrGsIUfo",
        "colab": {
          "base_uri": "https://localhost:8080/"
        },
        "outputId": "4ec5e682-2e0f-44ac-90ca-dce68883e5f0"
      },
      "execution_count": null,
      "outputs": [
        {
          "output_type": "stream",
          "name": "stdout",
          "text": [
            "Masukan Nama Anda: Rizky Aditya\n",
            "Masukkan umur Anda: 18\n",
            "Masukkan tinggi badan (cm): 182\n",
            "Status aktif (aktif/tidak aktif): aktif\n",
            "Halo Rizky Aditya, Umur 18 tahun, tinggi 182.0 cm, Status aktif\n"
          ]
        }
      ]
    },
    {
      "cell_type": "markdown",
      "source": [
        "#Penugasan 04, Operasi Aritmatika"
      ],
      "metadata": {
        "id": "uixMohqSPEsy"
      }
    },
    {
      "cell_type": "code",
      "source": [
        "a = int(input(\"Masukkan bilangan pertama: \"))\n",
        "b = int(input(\"Masukkan bilangan kedua: \"))\n",
        "\n",
        "print(\"\\n=== Hasil Operasi Aritmetika ===\")\n",
        "print(f\"Penjumlahan       : {a} + {b} = {a + b}\")\n",
        "print(f\"Pengurangan       : {a} - {b} = {a - b}\")\n",
        "print(f\"Perkalian         : {a} * {b} = {a * b}\")\n",
        "print(f\"Pembagian         : {a} / {b} = {a / b:.2f}\")\n",
        "print(f\"Sisa Bagi (Mod)   : {a} % {b} = {a % b}\")\n",
        "print(f\"Perpangkatan      : {a} ** {b} = {a ** b}\")"
      ],
      "metadata": {
        "colab": {
          "base_uri": "https://localhost:8080/"
        },
        "id": "u2nGo_uFPO3H",
        "outputId": "e5195036-0fd1-4e61-84cb-adc7afb25399"
      },
      "execution_count": null,
      "outputs": [
        {
          "output_type": "stream",
          "name": "stdout",
          "text": [
            "Masukkan bilangan pertama: 10\n",
            "Masukkan bilangan kedua: 5\n",
            "\n",
            "=== Hasil Operasi Aritmetika ===\n",
            "Penjumlahan       : 10 + 5 = 15\n",
            "Pengurangan       : 10 - 5 = 5\n",
            "Perkalian         : 10 * 5 = 50\n",
            "Pembagian         : 10 / 5 = 2.00\n",
            "Sisa Bagi (Mod)   : 10 % 5 = 0\n",
            "Perpangkatan      : 10 ** 5 = 100000\n"
          ]
        }
      ]
    },
    {
      "cell_type": "markdown",
      "source": [
        "#Penugasan 05, Konversi Nilai"
      ],
      "metadata": {
        "id": "dS3J4CabQmIq"
      }
    },
    {
      "cell_type": "code",
      "source": [
        "angka = float(input(\"Masukkan angka desimal: \"))\n",
        "\n",
        "print(\"\\n=== Hasil Konversi Nilai ===\")\n",
        "print(f\"Dalam bentuk integer : {int(angka)}\")\n",
        "print(f\"Dalam bentuk string  : '{str(angka)}'\")\n",
        "print(f\"Dibulatkan 2 digit   : {round(angka, 2)}\")"
      ],
      "metadata": {
        "colab": {
          "base_uri": "https://localhost:8080/"
        },
        "id": "-ixtFCYwQpdd",
        "outputId": "d44a6202-5481-4920-8eb4-dac61d7a06f5"
      },
      "execution_count": null,
      "outputs": [
        {
          "output_type": "stream",
          "name": "stdout",
          "text": [
            "Masukkan angka desimal: 20.2334545\n",
            "\n",
            "=== Hasil Konversi Nilai ===\n",
            "Dalam bentuk integer : 20\n",
            "Dalam bentuk string  : '20.2334545'\n",
            "Dibulatkan 2 digit   : 20.23\n"
          ]
        }
      ]
    },
    {
      "cell_type": "markdown",
      "source": [
        "#Penugasan 06, Operator Relasional"
      ],
      "metadata": {
        "id": "v5rBTAeGRrwS"
      }
    },
    {
      "cell_type": "code",
      "metadata": {
        "id": "dbe3912c",
        "colab": {
          "base_uri": "https://localhost:8080/"
        },
        "outputId": "23c74628-c453-4c47-9ed9-6d6d8a5f0532"
      },
      "source": [
        "bilangan1 = int(input(\"Masukkan bilangan pertama: \"))\n",
        "bilangan2 = int(input(\"Masukkan bilangan kedua: \"))\n",
        "\n",
        "print(\"\\n=== Hasil Perbandingan ===\")\n",
        "print(f\"{bilangan1} == {bilangan2} : {bilangan1 == bilangan2}\")\n",
        "print(f\"{bilangan1} != {bilangan2} : {bilangan1 != bilangan2}\")\n",
        "print(f\"{bilangan1} < {bilangan2}  : {bilangan1 < bilangan2}\")\n",
        "print(f\"{bilangan1} <= {bilangan2} : {bilangan1 <= bilangan2}\")\n",
        "print(f\"{bilangan1} > {bilangan2}  : {bilangan1 > bilangan2}\")\n",
        "print(f\"{bilangan1} >= {bilangan2} : {bilangan1 >= bilangan2}\")"
      ],
      "execution_count": 39,
      "outputs": [
        {
          "output_type": "stream",
          "name": "stdout",
          "text": [
            "Masukkan bilangan pertama: 20\n",
            "Masukkan bilangan kedua: 50\n",
            "\n",
            "=== Hasil Perbandingan ===\n",
            "20 == 50 : False\n",
            "20 != 50 : True\n",
            "20 < 50  : True\n",
            "20 <= 50 : True\n",
            "20 > 50  : False\n",
            "20 >= 50 : False\n"
          ]
        }
      ]
    }
  ]
}