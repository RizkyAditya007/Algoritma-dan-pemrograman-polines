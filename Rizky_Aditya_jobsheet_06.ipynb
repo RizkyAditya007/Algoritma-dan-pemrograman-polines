{
  "nbformat": 4,
  "nbformat_minor": 0,
  "metadata": {
    "colab": {
      "provenance": [],
      "authorship_tag": "ABX9TyPQED2zrvpF24JsSI7cRs2k",
      "include_colab_link": true
    },
    "kernelspec": {
      "name": "python3",
      "display_name": "Python 3"
    },
    "language_info": {
      "name": "python"
    }
  },
  "cells": [
    {
      "cell_type": "markdown",
      "metadata": {
        "id": "view-in-github",
        "colab_type": "text"
      },
      "source": [
        "<a href=\"https://colab.research.google.com/github/RizkyAditya007/Algoritma-dan-pemrograman-polines/blob/main/Rizky_Aditya_jobsheet_06.ipynb\" target=\"_parent\"><img src=\"https://colab.research.google.com/assets/colab-badge.svg\" alt=\"Open In Colab\"/></a>"
      ]
    },
    {
      "cell_type": "markdown",
      "source": [
        "#Praktikum 01 – Membuat dan Mengakses List 1D"
      ],
      "metadata": {
        "id": "OM5TPifsqMwR"
      }
    },
    {
      "cell_type": "code",
      "execution_count": null,
      "metadata": {
        "colab": {
          "base_uri": "https://localhost:8080/"
        },
        "id": "BdDNb2-hqEDD",
        "outputId": "59f38b99-08d8-4599-c80d-25715c4016f9"
      },
      "outputs": [
        {
          "output_type": "stream",
          "name": "stdout",
          "text": [
            "Andi\n",
            "Budi\n",
            "Cici\n"
          ]
        }
      ],
      "source": [
        "mahasiswa = [\"Andi\", \"Budi\", \"Cici\"]\n",
        "print(mahasiswa[0]) # Andi\n",
        "print(mahasiswa[1]) # Budi\n",
        "print(mahasiswa[-1]) # Cici"
      ]
    },
    {
      "cell_type": "markdown",
      "source": [
        "#Praktikum 02 – Update dan Operasi Dasar List"
      ],
      "metadata": {
        "id": "0UsVX9kvqgll"
      }
    },
    {
      "cell_type": "code",
      "source": [
        "nilai = [85, 90, 78]\n",
        "nilai[1] = 95\n",
        "nilai.append(100)\n",
        "nilai.remove(78)\n",
        "print(nilai)"
      ],
      "metadata": {
        "colab": {
          "base_uri": "https://localhost:8080/"
        },
        "id": "tK6_cdGbqih4",
        "outputId": "005278d9-6dee-460e-9bce-ebf1aa332644"
      },
      "execution_count": null,
      "outputs": [
        {
          "output_type": "stream",
          "name": "stdout",
          "text": [
            "[85, 95, 100]\n"
          ]
        }
      ]
    },
    {
      "cell_type": "markdown",
      "source": [
        "#Praktikum 03 – Slicing List"
      ],
      "metadata": {
        "id": "AMVSgMfzrJi8"
      }
    },
    {
      "cell_type": "code",
      "source": [
        "nilai = [85, 90, 78, 92, 88]\n",
        "print(nilai[0:3]) # [85, 90, 78]\n",
        "print(nilai[2:]) # [78, 92, 88]\n",
        "print(nilai[:3]) # [85, 90, 78]"
      ],
      "metadata": {
        "colab": {
          "base_uri": "https://localhost:8080/"
        },
        "id": "fWzIAqcUrL5n",
        "outputId": "651ba4f4-4666-43ab-c14a-29b308bf8b14"
      },
      "execution_count": null,
      "outputs": [
        {
          "output_type": "stream",
          "name": "stdout",
          "text": [
            "[85, 90, 78]\n",
            "[78, 92, 88]\n",
            "[85, 90, 78]\n"
          ]
        }
      ]
    },
    {
      "cell_type": "markdown",
      "source": [
        "#Praktikum 04 – List 2D (Matriks)"
      ],
      "metadata": {
        "id": "6p3fiihIrPyp"
      }
    },
    {
      "cell_type": "code",
      "source": [
        "matriks = [\n",
        "    [1, 2, 3],\n",
        "    [4, 5, 6],\n",
        "    [7, 8, 9]\n",
        "]\n",
        "\n",
        "print(matriks[0][0]) # 1\n",
        "print(matriks[1][2]) # 6\n",
        "print(matriks[2]) # [7, 8, 9]"
      ],
      "metadata": {
        "colab": {
          "base_uri": "https://localhost:8080/"
        },
        "id": "YcduyJNDrSEi",
        "outputId": "947659b7-6ef6-4dac-f547-cdd7d21f2699"
      },
      "execution_count": null,
      "outputs": [
        {
          "output_type": "stream",
          "name": "stdout",
          "text": [
            "1\n",
            "6\n",
            "[7, 8, 9]\n"
          ]
        }
      ]
    },
    {
      "cell_type": "markdown",
      "source": [
        "#Praktikum 05 – Operasi pada List 2D"
      ],
      "metadata": {
        "id": "1I4wu3hkrig5"
      }
    },
    {
      "cell_type": "code",
      "source": [
        "A = [[1, 2, 3], [4, 5, 6]]\n",
        "B = [[7, 8, 9], [10, 11, 12]]\n",
        "C = []\n",
        "\n",
        "for i in range(len(A)):\n",
        "  baris = []\n",
        "  for j in range(len(A[0])):\n",
        "    baris.append(A[i][j] + B[i][j])\n",
        "  C.append(baris)\n",
        "\n",
        "print(C)"
      ],
      "metadata": {
        "id": "STzluS3srkg6",
        "colab": {
          "base_uri": "https://localhost:8080/"
        },
        "outputId": "8741b59d-7745-4c14-9b5a-14aba4c8f9f7"
      },
      "execution_count": null,
      "outputs": [
        {
          "output_type": "stream",
          "name": "stdout",
          "text": [
            "[[8, 10, 12], [14, 16, 18]]\n"
          ]
        }
      ]
    },
    {
      "cell_type": "markdown",
      "source": [
        "#Praktikum 06 – Studi Kasus: Pengelolaan Nilai Mahasiswa"
      ],
      "metadata": {
        "id": "172zPd-ns-lU"
      }
    },
    {
      "cell_type": "code",
      "source": [
        "nilai = [\n",
        "    [80, 90, 85],\n",
        "    [70, 75, 80],\n",
        "    [88, 92, 84]\n",
        "]\n",
        "\n",
        "for i, baris in enumerate(nilai, start=1):\n",
        "    rata = sum(baris) / len(baris)\n",
        "    print(f\"Rata-rata mahasiswa {i}: {rata:.2f}\")"
      ],
      "metadata": {
        "colab": {
          "base_uri": "https://localhost:8080/"
        },
        "id": "qa4MHXi6tAzl",
        "outputId": "09de5c78-b4eb-4faa-a32a-ed3a58a5570b"
      },
      "execution_count": null,
      "outputs": [
        {
          "output_type": "stream",
          "name": "stdout",
          "text": [
            "Rata-rata mahasiswa 1: 85.00\n",
            "Rata-rata mahasiswa 2: 75.00\n",
            "Rata-rata mahasiswa 3: 88.00\n"
          ]
        }
      ]
    },
    {
      "cell_type": "markdown",
      "source": [
        "#Penugasan 03 - Akses Elemen List"
      ],
      "metadata": {
        "id": "bd7ZsJmTtZiA"
      }
    },
    {
      "cell_type": "code",
      "source": [
        "mahasiswa = [\"Aji\", \"Jarwo\", \"Joseph\", \"Bagus\"]\n",
        "print(\"Nama Mahasiswa pertama:\", mahasiswa[0])\n",
        "print(\"Nama Mahasiswa terakhir:\", mahasiswa[-1])\n",
        "print(\"Nama Mahasiswa pada indeks ke-2:\", mahasiswa[2])"
      ],
      "metadata": {
        "colab": {
          "base_uri": "https://localhost:8080/"
        },
        "id": "4vW1PwkOteQP",
        "outputId": "b1cd11fb-7e5e-4d6e-aac1-8c88a06a7319"
      },
      "execution_count": null,
      "outputs": [
        {
          "output_type": "stream",
          "name": "stdout",
          "text": [
            "Nama Mahasiswa pertama: Aji\n",
            "Nama Mahasiswa terakhir: Bagus\n",
            "Nama Mahasiswa pada indeks ke-2: Joseph\n"
          ]
        }
      ]
    },
    {
      "cell_type": "markdown",
      "source": [
        "#Penugasan 04 - Operasi Dasar List"
      ],
      "metadata": {
        "id": "E0o7hVcmwoaF"
      }
    },
    {
      "cell_type": "code",
      "source": [
        "nilai = [70, 75, 80]\n",
        "nilai[1] = 85\n",
        "nilai.append(90)\n",
        "nilai.remove(70)\n",
        "print(nilai)"
      ],
      "metadata": {
        "colab": {
          "base_uri": "https://localhost:8080/"
        },
        "id": "fGYAYRWcwtgw",
        "outputId": "a90e0550-d3fd-4571-cd5a-c66de701c584"
      },
      "execution_count": null,
      "outputs": [
        {
          "output_type": "stream",
          "name": "stdout",
          "text": [
            "[85, 80, 90]\n"
          ]
        }
      ]
    },
    {
      "cell_type": "markdown",
      "source": [
        "#Penugasan 05 - Slicing List"
      ],
      "metadata": {
        "id": "z7gHOIAo0P4I"
      }
    },
    {
      "cell_type": "code",
      "source": [
        "angka = list(range(1, 11))\n",
        "print(\"Angka 3 elemen pertama:\", angka[:3])\n",
        "print(\"Angka 4 elemen terakhir:\", angka[-4:])\n",
        "print(\"Angka dalam indeks genap:\", angka[::2])"
      ],
      "metadata": {
        "colab": {
          "base_uri": "https://localhost:8080/"
        },
        "id": "NOk5mMVB0VDw",
        "outputId": "a8968b7b-5a8c-4f51-f272-f9bbb8d7e0e1"
      },
      "execution_count": null,
      "outputs": [
        {
          "output_type": "stream",
          "name": "stdout",
          "text": [
            "Angka 3 elemen pertama: [1, 2, 3]\n",
            "Angka 4 elemen terakhir: [7, 8, 9, 10]\n",
            "Angka dalam indeks genap: [1, 3, 5, 7, 9]\n"
          ]
        }
      ]
    },
    {
      "cell_type": "markdown",
      "source": [
        "#Penugasan 06 - List 2D – Matriks"
      ],
      "metadata": {
        "id": "C_TVNq-P4Zwp"
      }
    },
    {
      "cell_type": "code",
      "source": [
        "matriks = [\n",
        "    [1, 2, 3],\n",
        "    [4, 5, 6],\n",
        "]\n",
        "print(matriks[0][1])\n",
        "print(matriks[1][2])\n",
        "print(matriks[0])"
      ],
      "metadata": {
        "colab": {
          "base_uri": "https://localhost:8080/"
        },
        "id": "vQMqmYnG4ePp",
        "outputId": "cb23f8fa-ec8b-4a1f-a76e-80495cd59b4e"
      },
      "execution_count": null,
      "outputs": [
        {
          "output_type": "stream",
          "name": "stdout",
          "text": [
            "2\n",
            "6\n",
            "[1, 2, 3]\n"
          ]
        }
      ]
    },
    {
      "cell_type": "markdown",
      "source": [
        "#Penugasan 07 - Operasi Matriks 2D"
      ],
      "metadata": {
        "id": "3cTGl0YW55gY"
      }
    },
    {
      "cell_type": "code",
      "source": [
        "A = [\n",
        "     [1, 2,],\n",
        "     [3, 4,]\n",
        "]\n",
        "B = [\n",
        "     [5, 6],\n",
        "     [7, 8]\n",
        "]\n",
        "\n",
        "results = []\n",
        "\n",
        "for i in range(len(A)):\n",
        "  baris = []\n",
        "  for j in range(len(A[0])):\n",
        "    baris.append(A[i][j] + B[i][j])\n",
        "  results.append(baris)\n",
        "\n",
        "for baris in results:\n",
        "  print(baris)"
      ],
      "metadata": {
        "colab": {
          "base_uri": "https://localhost:8080/"
        },
        "id": "2ua3Cbqk5-Ny",
        "outputId": "a54c693e-ddb0-449c-b0fe-2bdd778e1085"
      },
      "execution_count": null,
      "outputs": [
        {
          "output_type": "stream",
          "name": "stdout",
          "text": [
            "[6, 8]\n",
            "[10, 12]\n"
          ]
        }
      ]
    },
    {
      "cell_type": "markdown",
      "source": [
        "#Penugasan 08 - Rata-rata Nilai Mahasiswa"
      ],
      "metadata": {
        "id": "h5JoucbfBvCp"
      }
    },
    {
      "cell_type": "code",
      "source": [
        "nilai = [\n",
        "    [75, 80, 85],\n",
        "    [60, 70, 65],\n",
        "    [90, 95, 92]\n",
        "]\n",
        "\n",
        "for i, baris in enumerate(nilai, start=1):\n",
        "    rata = sum(baris) / len(baris)\n",
        "    print(f\"Rata-rata mahasiswa {i}: {rata:.2f}\")"
      ],
      "metadata": {
        "colab": {
          "base_uri": "https://localhost:8080/"
        },
        "id": "BRtSz-RrBx8A",
        "outputId": "e7fbbf49-57c9-4797-be92-2635968d3724"
      },
      "execution_count": null,
      "outputs": [
        {
          "output_type": "stream",
          "name": "stdout",
          "text": [
            "Rata-rata mahasiswa 1: 80.00\n",
            "Rata-rata mahasiswa 2: 65.00\n",
            "Rata-rata mahasiswa 3: 92.33\n"
          ]
        }
      ]
    },
    {
      "cell_type": "markdown",
      "source": [
        "#Penugasan 09 - Studi Kasus – Data Toko"
      ],
      "metadata": {
        "id": "zReeLIl1CGtv"
      }
    },
    {
      "cell_type": "code",
      "source": [
        "stok = [[\"Buku\", 20], [\"Pulpen\", 35], [\"Penghapus\", 15]]\n",
        "\n",
        "print(\"Daftar Stok Barang:\")\n",
        "for item in stok:\n",
        "  print(f\"{item[0]}: {item[1]}\")\n",
        "\n",
        "stok_terbanyak = [\"\", 0]\n",
        "for item in stok:\n",
        "  if item[1] > stok_terbanyak[1]:\n",
        "    stok_terbanyak = item\n",
        "\n",
        "print(f\"\\nBarang dengan stok terbanyak: {stok_terbanyak[0]} ({stok_terbanyak[1]} unit)\")"
      ],
      "metadata": {
        "id": "qX6Q_XaDCfuU",
        "colab": {
          "base_uri": "https://localhost:8080/"
        },
        "outputId": "b6040c3e-5096-48b5-9306-4fe23481b28b"
      },
      "execution_count": 88,
      "outputs": [
        {
          "output_type": "stream",
          "name": "stdout",
          "text": [
            "Daftar Stok Barang:\n",
            "Buku: 20\n",
            "Pulpen: 35\n",
            "Penghapus: 15\n",
            "\n",
            "Barang dengan stok terbanyak: Pulpen (35 unit)\n"
          ]
        }
      ]
    }
  ]
}