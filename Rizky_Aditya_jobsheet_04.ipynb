{
  "nbformat": 4,
  "nbformat_minor": 0,
  "metadata": {
    "colab": {
      "provenance": [],
      "authorship_tag": "ABX9TyOoXhMoFZtWPufXjwYgCZhe",
      "include_colab_link": true
    },
    "kernelspec": {
      "name": "python3",
      "display_name": "Python 3"
    },
    "language_info": {
      "name": "python"
    }
  },
  "cells": [
    {
      "cell_type": "markdown",
      "metadata": {
        "id": "view-in-github",
        "colab_type": "text"
      },
      "source": [
        "<a href=\"https://colab.research.google.com/github/RizkyAditya007/Algoritma-dan-pemrograman-polines/blob/main/Rizky_Aditya_jobsheet_04.ipynb\" target=\"_parent\"><img src=\"https://colab.research.google.com/assets/colab-badge.svg\" alt=\"Open In Colab\"/></a>"
      ]
    },
    {
      "cell_type": "markdown",
      "source": [
        "#Praktikum 01 – Perulangan For dengan Range"
      ],
      "metadata": {
        "id": "iWIBWddoflOv"
      }
    },
    {
      "cell_type": "code",
      "source": [
        "for i in range(1, 5) :\n",
        "  print(i)"
      ],
      "metadata": {
        "colab": {
          "base_uri": "https://localhost:8080/"
        },
        "id": "1bpIHJPXfuPO",
        "outputId": "8e13f81b-12d0-49a2-c403-8fa5dcabfdf0"
      },
      "execution_count": null,
      "outputs": [
        {
          "output_type": "stream",
          "name": "stdout",
          "text": [
            "1\n",
            "2\n",
            "3\n",
            "4\n"
          ]
        }
      ]
    },
    {
      "cell_type": "markdown",
      "source": [
        "#Praktikum 02 – Perulangan while"
      ],
      "metadata": {
        "id": "1g29I1s-g5Eh"
      }
    },
    {
      "cell_type": "code",
      "source": [
        "n = int(input(\"Masukan Angka: \"))\n",
        "while n > 0:\n",
        "  print(n)\n",
        "  n -= 1"
      ],
      "metadata": {
        "colab": {
          "base_uri": "https://localhost:8080/"
        },
        "id": "hVf7Q7CBhCqV",
        "outputId": "5b27c831-f87d-400c-e2b3-e13a4a337abf"
      },
      "execution_count": null,
      "outputs": [
        {
          "output_type": "stream",
          "name": "stdout",
          "text": [
            "Masukan Angka: 5\n",
            "5\n",
            "4\n",
            "3\n",
            "2\n",
            "1\n"
          ]
        }
      ]
    },
    {
      "cell_type": "markdown",
      "source": [
        "#Praktikum 03 – Nested Loop (Segitiga Bintang)"
      ],
      "metadata": {
        "id": "z5nqEsIAhZQ6"
      }
    },
    {
      "cell_type": "code",
      "source": [
        "for i in range(1, 5):\n",
        "  for j in range(i):\n",
        "    print(\"*\", end=\"\")\n",
        "  print()"
      ],
      "metadata": {
        "colab": {
          "base_uri": "https://localhost:8080/"
        },
        "id": "7S8gRwjbiAal",
        "outputId": "fcb90818-ea05-4fc4-9bc1-8d6a66e507ba"
      },
      "execution_count": null,
      "outputs": [
        {
          "output_type": "stream",
          "name": "stdout",
          "text": [
            "*\n",
            "**\n",
            "***\n",
            "****\n"
          ]
        }
      ]
    },
    {
      "cell_type": "markdown",
      "source": [
        "#Praktikum 04 – Break dan Continue"
      ],
      "metadata": {
        "id": "8PCp295Gicvn"
      }
    },
    {
      "cell_type": "code",
      "source": [
        "for i in range(1, 10):\n",
        "  if i == 7:\n",
        "    print(\"Angka 7 ditemukan\")\n",
        "    break"
      ],
      "metadata": {
        "colab": {
          "base_uri": "https://localhost:8080/"
        },
        "id": "8ywEO_UJifSB",
        "outputId": "2e629639-29fe-4940-a8a8-42a7e7db958d"
      },
      "execution_count": null,
      "outputs": [
        {
          "output_type": "stream",
          "name": "stdout",
          "text": [
            "Angka 7 ditemukan\n"
          ]
        }
      ]
    },
    {
      "cell_type": "code",
      "source": [
        "for i in range(1, 5):\n",
        "  if i %  2 == 1:\n",
        "    continue\n",
        "  print(i)"
      ],
      "metadata": {
        "colab": {
          "base_uri": "https://localhost:8080/"
        },
        "id": "W5Z-ff2QjYA1",
        "outputId": "00be5bcb-7086-4ba4-93cf-0735e0f0071e"
      },
      "execution_count": null,
      "outputs": [
        {
          "output_type": "stream",
          "name": "stdout",
          "text": [
            "2\n",
            "4\n"
          ]
        }
      ]
    },
    {
      "cell_type": "markdown",
      "source": [
        "#Praktikum 05 – For pada Dictionary"
      ],
      "metadata": {
        "id": "NcYF0a5ikDdg"
      }
    },
    {
      "cell_type": "code",
      "source": [
        "data = {\"Nama\":\"Andi\",\"Umur\":20,\"Prodi\":\"TRK\"}\n",
        "\n",
        "for k, v in data.items():\n",
        "  print(k, \":\", v)"
      ],
      "metadata": {
        "colab": {
          "base_uri": "https://localhost:8080/"
        },
        "id": "IQSRP0QakGQj",
        "outputId": "9e38c6b4-c2ce-4121-94d1-7ef9613363f7"
      },
      "execution_count": null,
      "outputs": [
        {
          "output_type": "stream",
          "name": "stdout",
          "text": [
            "Nama : Andi\n",
            "Umur : 20\n",
            "Prodi : TRK\n"
          ]
        }
      ]
    },
    {
      "cell_type": "markdown",
      "source": [
        "#Praktikum 06 – For dengan Enumerate"
      ],
      "metadata": {
        "id": "5nsb8e8Skhu3"
      }
    },
    {
      "cell_type": "code",
      "source": [
        "daftar = [\"Andi\", \"Budi\", \"Cici\"]\n",
        "\n",
        "for i, nama in enumerate(daftar, start=1):\n",
        " print(i, nama)"
      ],
      "metadata": {
        "colab": {
          "base_uri": "https://localhost:8080/"
        },
        "id": "SN_OiJENkkL_",
        "outputId": "63478af6-28c7-4f80-c592-426420022eec"
      },
      "execution_count": null,
      "outputs": [
        {
          "output_type": "stream",
          "name": "stdout",
          "text": [
            "1 Andi\n",
            "2 Budi\n",
            "3 Cici\n"
          ]
        }
      ]
    },
    {
      "cell_type": "markdown",
      "source": [
        "#Praktikum 07 – Studi Kasus: Program Kasir Multi-Item"
      ],
      "metadata": {
        "id": "X3R88oF7k1l4"
      }
    },
    {
      "cell_type": "code",
      "source": [
        "total = 0\n",
        "\n",
        "while True:\n",
        "  barang = input(\"Masukan nama barang (ketik 'selesai' untuk berhenti): \")\n",
        "  if barang.lower() == \"selesai\":\n",
        "    break\n",
        "  harga = float(input(f\"Masukan harga {barang}: \"))\n",
        "  jumlah = int(input(f\"Masukan jumlah {barang}: \"))\n",
        "  subtotal = harga * jumlah\n",
        "  total += subtotal\n",
        "\n",
        "print(\"\\n===== struk Belanja =====\")\n",
        "print(f\"Total Belanja : Rp {total}\")"
      ],
      "metadata": {
        "colab": {
          "base_uri": "https://localhost:8080/"
        },
        "id": "6z2gnRCRk5FP",
        "outputId": "e0113533-f99a-4572-b9c1-bf938c4355eb"
      },
      "execution_count": null,
      "outputs": [
        {
          "output_type": "stream",
          "name": "stdout",
          "text": [
            "Masukan nama barang (ketik 'selesai' untuk berhenti): Buku\n",
            "Masukan harga Buku: 50000\n",
            "Masukan jumlah Buku: 2\n",
            "Masukan nama barang (ketik 'selesai' untuk berhenti): Pulpen\n",
            "Masukan harga Pulpen: 5000\n",
            "Masukan jumlah Pulpen: 3\n",
            "Masukan nama barang (ketik 'selesai' untuk berhenti): selesai\n",
            "\n",
            "===== struk Belanja =====\n",
            "Total Belanja : Rp 115000.0\n"
          ]
        }
      ]
    },
    {
      "cell_type": "markdown",
      "source": [
        "#Penugasan 03 - Menampilkan Deret Angka"
      ],
      "metadata": {
        "id": "w1VDDq36nhJp"
      }
    },
    {
      "cell_type": "code",
      "metadata": {
        "colab": {
          "base_uri": "https://localhost:8080/"
        },
        "id": "a8acce73",
        "outputId": "922e3e95-9db9-4bd0-9bd9-57112d2d9685"
      },
      "source": [
        "for i in range(3, 31, 3):\n",
        "  print(i)"
      ],
      "execution_count": null,
      "outputs": [
        {
          "output_type": "stream",
          "name": "stdout",
          "text": [
            "3\n",
            "6\n",
            "9\n",
            "12\n",
            "15\n",
            "18\n",
            "21\n",
            "24\n",
            "27\n",
            "30\n"
          ]
        }
      ]
    },
    {
      "cell_type": "markdown",
      "source": [
        "#Penugasan 04 - Hitung Faktorial"
      ],
      "metadata": {
        "id": "HWr_LVCNo5w7"
      }
    },
    {
      "cell_type": "code",
      "metadata": {
        "colab": {
          "base_uri": "https://localhost:8080/"
        },
        "id": "54d06150",
        "outputId": "a2aaab4d-989d-4a76-f93d-0ab2e91f2f39"
      },
      "source": [
        "angka = int(input(\"Masukkan bilangan untuk menghitung faktorial: \"))\n",
        "faktorial = 1\n",
        "i = 1\n",
        "\n",
        "while i <= angka:\n",
        "  faktorial *= i\n",
        "  i += 1\n",
        "\n",
        "print(f\"Faktorial dari {angka} adalah {faktorial}\")"
      ],
      "execution_count": null,
      "outputs": [
        {
          "output_type": "stream",
          "name": "stdout",
          "text": [
            "Masukkan bilangan untuk menghitung faktorial: 5\n",
            "Faktorial dari 5 adalah 120\n"
          ]
        }
      ]
    },
    {
      "cell_type": "markdown",
      "source": [
        "#Penugasan 05 - Pola Segitiga Terbalik"
      ],
      "metadata": {
        "id": "-OBqwM8tp3sx"
      }
    },
    {
      "cell_type": "code",
      "source": [
        "for i in range(5, 0, -1):\n",
        "  for j in range(i):\n",
        "    print(\"*\", end=\"\")\n",
        "  print()"
      ],
      "metadata": {
        "colab": {
          "base_uri": "https://localhost:8080/"
        },
        "id": "UxjrhuavqEzj",
        "outputId": "a00ffe97-1748-4881-eaee-0421068dd320"
      },
      "execution_count": null,
      "outputs": [
        {
          "output_type": "stream",
          "name": "stdout",
          "text": [
            "*****\n",
            "****\n",
            "***\n",
            "**\n",
            "*\n"
          ]
        }
      ]
    },
    {
      "cell_type": "markdown",
      "source": [
        "#Penugasan 06 - Cari Bilangan Prima dengan Break\n"
      ],
      "metadata": {
        "id": "IR2PVJC6snws"
      }
    },
    {
      "cell_type": "code",
      "metadata": {
        "id": "2ca99691",
        "colab": {
          "base_uri": "https://localhost:8080/"
        },
        "outputId": "13c10e9d-d567-4990-8233-56d045b34aac"
      },
      "source": [
        "angka = int(input(\"Masukkan bilangan: \"))\n",
        "\n",
        "if angka > 1:\n",
        "  is_prima = True\n",
        "  i = 2\n",
        "\n",
        "  while i * i <= angka:\n",
        "    if angka % i == 0:\n",
        "      is_prima = False\n",
        "      break\n",
        "    i += 1\n",
        "\n",
        "  if is_prima:\n",
        "    print(f\"{angka} adalah bilangan prima\")\n",
        "  else:\n",
        "    print(f\"{angka} bukan bilangan prima\")\n",
        "else:\n",
        "    print(f\"{angka} bukan bilangan prima (karena kurang dari 2).\")"
      ],
      "execution_count": null,
      "outputs": [
        {
          "output_type": "stream",
          "name": "stdout",
          "text": [
            "Masukkan bilangan: 1\n",
            "1 bukan bilangan prima (karena kurang dari 2).\n"
          ]
        }
      ]
    },
    {
      "cell_type": "markdown",
      "source": [
        "#Penugasan 07 - Tampilkan Hanya Bilangan Genap dengan Continue"
      ],
      "metadata": {
        "id": "Ii9CoX1hy3ZV"
      }
    },
    {
      "cell_type": "code",
      "source": [
        "for i in range(1, 20):\n",
        "  if i %  2 == 1:\n",
        "    continue\n",
        "  print(i)"
      ],
      "metadata": {
        "colab": {
          "base_uri": "https://localhost:8080/"
        },
        "id": "D2lpS-j7y9ww",
        "outputId": "b87dc145-df02-445f-ba0f-f4c28e52802f"
      },
      "execution_count": null,
      "outputs": [
        {
          "output_type": "stream",
          "name": "stdout",
          "text": [
            "2\n",
            "4\n",
            "6\n",
            "8\n",
            "10\n",
            "12\n",
            "14\n",
            "16\n",
            "18\n"
          ]
        }
      ]
    },
    {
      "cell_type": "markdown",
      "source": [
        "#Penugasan 08 - Iterasi Dictionary Mahasiswa"
      ],
      "metadata": {
        "id": "MPwFzsxq1SXj"
      }
    },
    {
      "cell_type": "code",
      "source": [
        "data = {\"Nama\":\"Budi\",\"Umur\":21,\"Prodi\":\"Teknik Komputer\"}\n",
        "\n",
        "for k, v in data.items():\n",
        "  print(k, \":\", v)"
      ],
      "metadata": {
        "colab": {
          "base_uri": "https://localhost:8080/"
        },
        "id": "9CaHmm151XN_",
        "outputId": "7db5c4b2-2322-4586-823b-075a851c9482"
      },
      "execution_count": null,
      "outputs": [
        {
          "output_type": "stream",
          "name": "stdout",
          "text": [
            "Nama : Budi\n",
            "Umur : 21\n",
            "Prodi : Teknik Komputer\n"
          ]
        }
      ]
    },
    {
      "cell_type": "markdown",
      "source": [
        "#Penugasan 09 - Enumerate Daftar Barang"
      ],
      "metadata": {
        "id": "OoPpCwEl1-9G"
      }
    },
    {
      "cell_type": "code",
      "source": [
        "daftar = [\"Buku\", \"Pulpen\", \"Tas\"]\n",
        "\n",
        "for i, nama in enumerate(daftar, start=1):\n",
        " print(i, nama)"
      ],
      "metadata": {
        "colab": {
          "base_uri": "https://localhost:8080/"
        },
        "id": "LJSF5MYe2DkQ",
        "outputId": "8831f6cc-1b86-47c4-87b5-0cc44b63c354"
      },
      "execution_count": null,
      "outputs": [
        {
          "output_type": "stream",
          "name": "stdout",
          "text": [
            "1 Buku\n",
            "2 Pulpen\n",
            "3 Tas\n"
          ]
        }
      ]
    },
    {
      "cell_type": "markdown",
      "source": [
        "#Penugasan 10 - Studi Kasus – Kasir Diskon\n"
      ],
      "metadata": {
        "id": "TlE2AXK52_LJ"
      }
    },
    {
      "cell_type": "code",
      "source": [
        "total = 0\n",
        "\n",
        "while True:\n",
        "  barang = input(\"Masukan nama barang (ketik 'selesai' untuk berhenti): \")\n",
        "  if barang.lower() == \"selesai\":\n",
        "    break\n",
        "  harga = float(input(f\"Masukan harga {barang}: \"))\n",
        "  jumlah = int(input(f\"Masukan jumlah {barang}: \"))\n",
        "  subtotal = harga * jumlah\n",
        "  total += subtotal\n",
        "  if total >= 200000:\n",
        "    diskon = total * 0.1\n",
        "  else:\n",
        "    diskon = 0\n",
        "total_bayar = total - diskon\n",
        "\n",
        "\n",
        "print(\"\\n===== struk Belanja =====\")\n",
        "print(f\"Total Belanja : Rp {total}\")\n",
        "print(f\"Diskon : Rp {diskon:,}\")\n",
        "print(f\"Total Bayar : Rp {total_bayar}\")"
      ],
      "metadata": {
        "colab": {
          "base_uri": "https://localhost:8080/"
        },
        "id": "NpYwe4Fi5LZd",
        "outputId": "505ac250-dbb2-4caa-c219-8a90db2aae55"
      },
      "execution_count": 52,
      "outputs": [
        {
          "output_type": "stream",
          "name": "stdout",
          "text": [
            "Masukan nama barang (ketik 'selesai' untuk berhenti): sendal\n",
            "Masukan harga sendal: 15000\n",
            "Masukan jumlah sendal: 1\n",
            "Masukan nama barang (ketik 'selesai' untuk berhenti): selesai\n",
            "\n",
            "===== struk Belanja =====\n",
            "Total Belanja : Rp 15000.0\n",
            "Diskon : Rp 0\n",
            "Total Bayar : Rp 15000.0\n"
          ]
        }
      ]
    }
  ]
}